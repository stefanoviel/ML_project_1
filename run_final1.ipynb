{
 "cells": [
  {
   "cell_type": "code",
   "execution_count": 4,
   "metadata": {},
   "outputs": [],
   "source": [
    "import numpy as np \n",
    "from helpers import * \n",
    "from implementations import *\n",
    "from utilities import *\n",
    "import matplotlib.pyplot as plt"
   ]
  },
  {
   "cell_type": "code",
   "execution_count": 20,
   "metadata": {},
   "outputs": [],
   "source": [
    "# hyperparameter tuning with only a part of the dataset\n",
    "MAX_ROWS = 20000\n",
    "\n",
    "x_data = np.genfromtxt('data/dataset/x_train.csv', delimiter=\",\", skip_header=1, max_rows=MAX_ROWS)\n",
    "y_data = np.genfromtxt('data/dataset/y_train.csv', delimiter=\",\", skip_header=1, max_rows=MAX_ROWS)\n",
    "\n",
    "x_data = normalize(x_data)"
   ]
  },
  {
   "cell_type": "code",
   "execution_count": 21,
   "metadata": {},
   "outputs": [
    {
     "name": "stderr",
     "output_type": "stream",
     "text": [
      "/home/stefano/Documents/EPFL/ML_course_projects/ML_project_1/implementations.py:136: RuntimeWarning: divide by zero encountered in log\n",
      "  loss = -np.mean(y * np.log(sigmoids) + (1 - y) * np.log(1 - sigmoids))\n",
      "/home/stefano/Documents/EPFL/ML_course_projects/ML_project_1/implementations.py:136: RuntimeWarning: invalid value encountered in multiply\n",
      "  loss = -np.mean(y * np.log(sigmoids) + (1 - y) * np.log(1 - sigmoids))\n",
      "/home/stefano/Documents/EPFL/ML_course_projects/ML_project_1/utilities.py:289: RuntimeWarning: invalid value encountered in double_scalars\n",
      "  if len(losses) > 2 and np.abs(losses[-2] - losses[-1]) < 1e-3 and not half:\n",
      "/home/stefano/Documents/EPFL/ML_course_projects/ML_project_1/utilities.py:292: RuntimeWarning: invalid value encountered in double_scalars\n",
      "  elif len(losses) > 2 and np.abs(losses[-2] - losses[-1]) < 1e-5:\n"
     ]
    },
    {
     "name": "stdout",
     "output_type": "stream",
     "text": [
      "nan -> 0 f1-score : 0.3961613055675956, accuracy 0.8637500000000001\n",
      "nan -> median f1-score :0.15853323222469637, accuracy 0.0877\n",
      "nan -> mean f1-score :0.3909270146745669, accuracy 0.86995\n"
     ]
    }
   ],
   "source": [
    "# choose which type of cleaning is the best\n",
    "\n",
    "x_train = clean_X_0(x_data)  # replace nan with zero add bias column\n",
    "y_train = clean_Y(y_data)\n",
    "\n",
    "accuracy, f1_score = k_fold_cross_validation(x_train, y_train, reg_logistic_regression_batch, k= 5,\n",
    "                                                model_params={'initial_w': np.random.rand(x_train.shape[1]),\n",
    "                                                            'max_iters': 5000, 'gamma':0.25, 'lambda_': 0, 'batch_size' : 100}, threshold=0.2)\n",
    "\n",
    "print(f'nan -> 0 f1-score : {f1_score}, accuracy {accuracy}')\n",
    "\n",
    "x_train = clean_X_median(x_data)  # replace nan with median add bias column\n",
    "\n",
    "accuracy, f1_score = k_fold_cross_validation(x_train, y_train, reg_logistic_regression_batch, k= 5,\n",
    "                                                model_params={'initial_w': np.random.rand(x_train.shape[1]),\n",
    "                                                            'max_iters': 5000, 'gamma':0.25, 'lambda_': 0, 'batch_size' : 100}, threshold=0.2)\n",
    "\n",
    "print(f'nan -> median f1-score :{f1_score}, accuracy {accuracy}')\n",
    "\n",
    "\n",
    "x_train = clean_X_mean(x_data)  # replace nan with mean add bias column\n",
    "\n",
    "accuracy, f1_score = k_fold_cross_validation(x_train, y_train, reg_logistic_regression_batch, k= 5,\n",
    "                                                model_params={'initial_w': np.random.rand(x_train.shape[1]),\n",
    "                                                            'max_iters': 5000, 'gamma':0.25, 'lambda_': 0, 'batch_size' : 100}, threshold=0.2)\n",
    "\n",
    "print(f'nan -> mean f1-score :{f1_score}, accuracy {accuracy}')"
   ]
  },
  {
   "cell_type": "markdown",
   "metadata": {},
   "source": [
    "No significant difference between mean and 0, if we normalize the data before. If we don't normalize mean is better"
   ]
  },
  {
   "cell_type": "code",
   "execution_count": 32,
   "metadata": {},
   "outputs": [
    {
     "name": "stderr",
     "output_type": "stream",
     "text": [
      "/home/stefano/Documents/EPFL/ML_course_projects/ML_project_1/implementations.py:136: RuntimeWarning: divide by zero encountered in log\n",
      "  loss = -np.mean(y * np.log(sigmoids) + (1 - y) * np.log(1 - sigmoids))\n",
      "/home/stefano/Documents/EPFL/ML_course_projects/ML_project_1/utilities.py:289: RuntimeWarning: invalid value encountered in double_scalars\n",
      "  if len(losses) > 2 and np.abs(losses[-2] - losses[-1]) < 1e-3 and not half:\n",
      "/home/stefano/Documents/EPFL/ML_course_projects/ML_project_1/utilities.py:292: RuntimeWarning: invalid value encountered in double_scalars\n",
      "  elif len(losses) > 2 and np.abs(losses[-2] - losses[-1]) < 1e-5:\n",
      "/home/stefano/Documents/EPFL/ML_course_projects/ML_project_1/implementations.py:136: RuntimeWarning: invalid value encountered in multiply\n",
      "  loss = -np.mean(y * np.log(sigmoids) + (1 - y) * np.log(1 - sigmoids))\n"
     ]
    },
    {
     "name": "stdout",
     "output_type": "stream",
     "text": [
      " lambda= 0, gamma= 0.2, batch_size = 100, threshold = 0.1 CV accuracy = 0.7966, f1_score = 0.3562\n",
      " lambda= 0, gamma= 0.2, batch_size = 500, threshold = 0.1 CV accuracy = 0.7909, f1_score = 0.3644\n",
      " lambda= 0, gamma= 0.2, batch_size = 1000, threshold = 0.1 CV accuracy = 0.7925, f1_score = 0.3664\n",
      " lambda= 0, gamma= 0.2, batch_size = 100, threshold = 0.2 CV accuracy = 0.8602, f1_score = 0.3724\n",
      " lambda= 0, gamma= 0.2, batch_size = 500, threshold = 0.2 CV accuracy = 0.8617, f1_score = 0.3740\n",
      " lambda= 0, gamma= 0.2, batch_size = 1000, threshold = 0.2 CV accuracy = 0.8632, f1_score = 0.3785\n",
      " lambda= 0, gamma= 0.2, batch_size = 100, threshold = 0.25 CV accuracy = 0.8773, f1_score = 0.3803\n",
      " lambda= 0, gamma= 0.2, batch_size = 500, threshold = 0.25 CV accuracy = 0.8815, f1_score = 0.3774\n",
      " lambda= 0, gamma= 0.2, batch_size = 1000, threshold = 0.25 CV accuracy = 0.8756, f1_score = 0.3682\n",
      " lambda= 0, gamma= 0.2, batch_size = 100, threshold = 0.3 CV accuracy = 0.8841, f1_score = 0.3536\n",
      " lambda= 0, gamma= 0.2, batch_size = 500, threshold = 0.3 CV accuracy = 0.8924, f1_score = 0.3687\n",
      " lambda= 0, gamma= 0.2, batch_size = 1000, threshold = 0.3 CV accuracy = 0.8867, f1_score = 0.3684\n",
      " lambda= 0, gamma= 0.2, batch_size = 100, threshold = 0.4 CV accuracy = 0.9006, f1_score = 0.3450\n",
      " lambda= 0, gamma= 0.2, batch_size = 500, threshold = 0.4 CV accuracy = 0.9042, f1_score = 0.3217\n",
      " lambda= 0, gamma= 0.2, batch_size = 1000, threshold = 0.4 CV accuracy = 0.9048, f1_score = 0.3315\n",
      " lambda= 0.0001, gamma= 0.2, batch_size = 100, threshold = 0.1 CV accuracy = 0.7975, f1_score = 0.3656\n",
      " lambda= 0.0001, gamma= 0.2, batch_size = 500, threshold = 0.1 CV accuracy = 0.7868, f1_score = 0.3604\n",
      " lambda= 0.0001, gamma= 0.2, batch_size = 1000, threshold = 0.1 CV accuracy = 0.7897, f1_score = 0.3635\n"
     ]
    }
   ],
   "source": [
    "x_train = clean_X_mean(x_data)  \n",
    "y_train = clean_Y(y_data)\n",
    "\n",
    "initial_w = np.random.rand(x_train.shape[1])\n",
    "\n",
    "\n",
    "\n",
    "best_param_lambda, best_param_gamma, best_param_threshold, best_batch_size = hyperparameter_tuning(x_train, y_train , \n",
    "                                            reg_logistic_regression_batch,lambdas= [0, 1e-4, 1e-5], \n",
    "                                            gammas=[0.2, 0.25, 0.3, 0.35], thresholds=[0.1, 0.2, 0.25, 0.3, 0.4], batch_sizes=[100, 500, 1000],\n",
    "                                            model_params={'initial_w': initial_w ,'max_iters': 10000})\n",
    "\n",
    "\n",
    "best_param_lambda, best_param_gamma, best_param_threshold, best_batch_size"
   ]
  },
  {
   "cell_type": "code",
   "execution_count": 3,
   "metadata": {},
   "outputs": [
    {
     "name": "stderr",
     "output_type": "stream",
     "text": [
      "/home/stefano/Documents/EPFL/ML_course_projects/ML_project_1/implementations.py:136: RuntimeWarning: divide by zero encountered in log\n",
      "  loss = -np.mean(y * np.log(sigmoids) + (1 - y) * np.log(1 - sigmoids))\n",
      "/home/stefano/Documents/EPFL/ML_course_projects/ML_project_1/implementations.py:136: RuntimeWarning: invalid value encountered in multiply\n",
      "  loss = -np.mean(y * np.log(sigmoids) + (1 - y) * np.log(1 - sigmoids))\n"
     ]
    }
   ],
   "source": [
    "# load dataset for final training and prediction on test set\n",
    "\n",
    "x_data = np.genfromtxt('data/dataset/x_train.csv', delimiter=\",\", skip_header=1)\n",
    "y_data = np.genfromtxt('data/dataset/y_train.csv', delimiter=\",\", skip_header=1)\n",
    "x_test = np.genfromtxt('data/dataset/x_test.csv', delimiter=\",\", skip_header=1)\n",
    "\n",
    "# clean data\n",
    "x_test_clean = clean_X_median(x_test)\n",
    "y_data = clean_Y(y_data)\n",
    "x_data = clean_X_median(x_data)\n",
    "\n",
    "initial_w = np.random.rand(x_data.shape[1])\n",
    "\n",
    "# train with optimal hyperparameters\n",
    "w, loss = reg_logistic_regression(y_data.reshape(-1, 1), x_data, 1e-5, initial_w.reshape(-1, 1), 10000, 0.25)  # replace with best lambda, gamma\n",
    "\n",
    "# predict with optimal threshold\n",
    "y_pred = (sigmoid(x_test_clean @ w) >= 0.5).flatten()  # replace best threshold\n",
    "y_pred = np.where(y_pred, 1, -1)\n",
    "\n",
    "create_csv_submission(x_test[:, 0], y_pred, 'prediction.csv')"
   ]
  },
  {
   "cell_type": "code",
   "execution_count": 5,
   "metadata": {},
   "outputs": [
    {
     "data": {
      "text/plain": [
       "42.276853875058286"
      ]
     },
     "execution_count": 5,
     "metadata": {},
     "output_type": "execute_result"
    }
   ],
   "source": [
    "\n",
    "\n",
    "((y_pred == 1).sum() / len(y_pred)) * 100"
   ]
  },
  {
   "cell_type": "code",
   "execution_count": 143,
   "metadata": {},
   "outputs": [
    {
     "name": "stderr",
     "output_type": "stream",
     "text": [
      "/home/stefano/Documents/EPFL/ML_course_projects/ML_project_1/implementations.py:136: RuntimeWarning: divide by zero encountered in log\n",
      "  loss = -np.mean(y * np.log(sigmoids) + (1 - y) * np.log(1 - sigmoids))\n",
      "/home/stefano/Documents/EPFL/ML_course_projects/ML_project_1/implementations.py:136: RuntimeWarning: invalid value encountered in multiply\n",
      "  loss = -np.mean(y * np.log(sigmoids) + (1 - y) * np.log(1 - sigmoids))\n",
      "/tmp/ipykernel_4899/1594625279.py:14: RuntimeWarning: invalid value encountered in double_scalars\n",
      "  if len(losses) > 2 and np.abs(losses[-2] - losses[-1]) < 1e-3 and not half:\n",
      "/tmp/ipykernel_4899/1594625279.py:17: RuntimeWarning: invalid value encountered in double_scalars\n",
      "  elif len(losses) > 2 and np.abs(losses[-2] - losses[-1]) < 3e-5:\n"
     ]
    }
   ],
   "source": [
    "w, losses = reg_logistic_regression_batch(y_train, x_train, np.random.rand(x_train.shape[1]), 0, 10000, 0.25)"
   ]
  },
  {
   "cell_type": "code",
   "execution_count": 152,
   "metadata": {},
   "outputs": [
    {
     "name": "stderr",
     "output_type": "stream",
     "text": [
      "/home/stefano/Documents/EPFL/ML_course_projects/ML_project_1/implementations.py:136: RuntimeWarning: divide by zero encountered in log\n",
      "  loss = -np.mean(y * np.log(sigmoids) + (1 - y) * np.log(1 - sigmoids))\n",
      "/home/stefano/Documents/EPFL/ML_course_projects/ML_project_1/implementations.py:136: RuntimeWarning: invalid value encountered in multiply\n",
      "  loss = -np.mean(y * np.log(sigmoids) + (1 - y) * np.log(1 - sigmoids))\n",
      "/tmp/ipykernel_4899/1594625279.py:14: RuntimeWarning: invalid value encountered in double_scalars\n",
      "  if len(losses) > 2 and np.abs(losses[-2] - losses[-1]) < 1e-3 and not half:\n",
      "/tmp/ipykernel_4899/1594625279.py:17: RuntimeWarning: invalid value encountered in double_scalars\n",
      "  elif len(losses) > 2 and np.abs(losses[-2] - losses[-1]) < 3e-5:\n"
     ]
    }
   ],
   "source": [
    "w, losses = reg_logistic_regression_batch(cleaned_data_y, cleaned_data_x, np.random.rand(x_train.shape[1]), 1e-5, 10000, 0.2)"
   ]
  },
  {
   "cell_type": "code",
   "execution_count": 147,
   "metadata": {},
   "outputs": [
    {
     "name": "stdout",
     "output_type": "stream",
     "text": [
      "f1-score : 0.40833508735003154, accuracy 0.8715010590153442\n"
     ]
    },
    {
     "data": {
      "image/png": "[encoded data removed]",
      "text/plain": [
       "<Figure size 432x288 with 1 Axes>"
      ]
     },
     "metadata": {
      "needs_background": "light"
     },
     "output_type": "display_data"
    }
   ],
   "source": [
    "def predict_logistic(X, w, t): \n",
    "    return (sigmoid(X @ w) >= t).flatten()\n",
    "\n",
    "y_pred = predict_logistic(x_test, w, 0.2)\n",
    "\n",
    "print(f'f1-score : {compute_f1(y_test, y_pred)}, accuracy {(y_test == y_pred).sum() / len(y_pred)}')\n",
    "plt.plot(losses)\n",
    "plt.show()"
   ]
  },
  {
   "cell_type": "code",
   "execution_count": 149,
   "metadata": {},
   "outputs": [
    {
     "name": "stderr",
     "output_type": "stream",
     "text": [
      "/home/stefano/Documents/EPFL/ML_course_projects/ML_project_1/implementations.py:136: RuntimeWarning: divide by zero encountered in log\n",
      "  loss = -np.mean(y * np.log(sigmoids) + (1 - y) * np.log(1 - sigmoids))\n",
      "/home/stefano/Documents/EPFL/ML_course_projects/ML_project_1/implementations.py:136: RuntimeWarning: invalid value encountered in multiply\n",
      "  loss = -np.mean(y * np.log(sigmoids) + (1 - y) * np.log(1 - sigmoids))\n",
      "/tmp/ipykernel_4899/1594625279.py:14: RuntimeWarning: invalid value encountered in double_scalars\n",
      "  if len(losses) > 2 and np.abs(losses[-2] - losses[-1]) < 1e-3 and not half:\n",
      "/tmp/ipykernel_4899/1594625279.py:17: RuntimeWarning: invalid value encountered in double_scalars\n",
      "  elif len(losses) > 2 and np.abs(losses[-2] - losses[-1]) < 3e-5:\n"
     ]
    }
   ],
   "source": [
    "w, losses = reg_logistic_regression_batch(y_data, x_data, np.random.rand(x_train.shape[1]), 0, 10000, 0.25)\n",
    "\n",
    "x_test = np.genfromtxt('data/dataset/x_test.csv', delimiter=\",\", skip_header=1)\n",
    "\n",
    "x_test_clean = clean_X_0(x_test)"
   ]
  },
  {
   "cell_type": "code",
   "execution_count": 153,
   "metadata": {},
   "outputs": [
    {
     "data": {
      "text/plain": [
       "13.201802905493743"
      ]
     },
     "execution_count": 153,
     "metadata": {},
     "output_type": "execute_result"
    }
   ],
   "source": [
    "y_pred = (sigmoid(x_test_clean @ w) >= 0.2).flatten()\n",
    "y_pred = np.where(y_pred, 1, -1)\n",
    "\n",
    "create_csv_submission(x_test[:, 0], y_pred, 'prediction.csv')\n",
    "\n",
    "((y_pred == 1).sum() / len(y_pred)) * 100"
   ]
  },
  {
   "cell_type": "code",
   "execution_count": 139,
   "metadata": {},
   "outputs": [
    {
     "name": "stderr",
     "output_type": "stream",
     "text": [
      "/tmp/ipykernel_4899/1594625279.py:14: RuntimeWarning: invalid value encountered in double_scalars\n",
      "  if len(losses) > 2 and np.abs(losses[-2] - losses[-1]) < 1e-3 and not half:\n",
      "/tmp/ipykernel_4899/1594625279.py:17: RuntimeWarning: invalid value encountered in double_scalars\n",
      "  elif len(losses) > 2 and np.abs(losses[-2] - losses[-1]) < 3e-5:\n"
     ]
    },
    {
     "name": "stdout",
     "output_type": "stream",
     "text": [
      " lambda= 0, gamma= 0.1, threshold = 0.1 CV accuracy = 0.7925, f1_score = 0.3533\n",
      " lambda= 0, gamma= 0.1, threshold = 0.15 CV accuracy = 0.8239, f1_score = 0.3566\n",
      " lambda= 0, gamma= 0.1, threshold = 0.2 CV accuracy = 0.8647, f1_score = 0.3805\n",
      " lambda= 0, gamma= 0.1, threshold = 0.25 CV accuracy = 0.8714, f1_score = 0.3479\n",
      " lambda= 0, gamma= 0.1, threshold = 0.3 CV accuracy = 0.8760, f1_score = 0.3368\n",
      " lambda= 0, gamma= 0.1, threshold = 0.35 CV accuracy = 0.8940, f1_score = 0.3228\n",
      " lambda= 0, gamma= 0.1, threshold = 0.4 CV accuracy = 0.8884, f1_score = 0.2955\n",
      " lambda= 0.0001, gamma= 0.1, threshold = 0.1 CV accuracy = 0.7927, f1_score = 0.3555\n",
      " lambda= 0.0001, gamma= 0.1, threshold = 0.15 CV accuracy = 0.8376, f1_score = 0.3772\n",
      " lambda= 0.0001, gamma= 0.1, threshold = 0.2 CV accuracy = 0.8572, f1_score = 0.3684\n",
      " lambda= 0.0001, gamma= 0.1, threshold = 0.25 CV accuracy = 0.8740, f1_score = 0.3498\n",
      " lambda= 0.0001, gamma= 0.1, threshold = 0.3 CV accuracy = 0.8831, f1_score = 0.3379\n",
      " lambda= 0.0001, gamma= 0.1, threshold = 0.35 CV accuracy = 0.9032, f1_score = 0.3424\n",
      " lambda= 0.0001, gamma= 0.1, threshold = 0.4 CV accuracy = 0.9052, f1_score = 0.3102\n",
      " lambda= 1e-05, gamma= 0.1, threshold = 0.1 CV accuracy = 0.7878, f1_score = 0.3485\n",
      " lambda= 1e-05, gamma= 0.1, threshold = 0.15 CV accuracy = 0.8277, f1_score = 0.3541\n",
      " lambda= 1e-05, gamma= 0.1, threshold = 0.2 CV accuracy = 0.8598, f1_score = 0.3662\n",
      " lambda= 1e-05, gamma= 0.1, threshold = 0.25 CV accuracy = 0.8752, f1_score = 0.3587\n",
      " lambda= 1e-05, gamma= 0.1, threshold = 0.3 CV accuracy = 0.8812, f1_score = 0.3365\n",
      " lambda= 1e-05, gamma= 0.1, threshold = 0.35 CV accuracy = 0.8931, f1_score = 0.3262\n",
      " lambda= 1e-05, gamma= 0.1, threshold = 0.4 CV accuracy = 0.9039, f1_score = 0.2935\n",
      " lambda= 0, gamma= 0.15, threshold = 0.1 CV accuracy = 0.7972, f1_score = 0.3652\n",
      " lambda= 0, gamma= 0.15, threshold = 0.15 CV accuracy = 0.8355, f1_score = 0.3730\n",
      " lambda= 0, gamma= 0.15, threshold = 0.2 CV accuracy = 0.8629, f1_score = 0.3768\n",
      " lambda= 0, gamma= 0.15, threshold = 0.25 CV accuracy = 0.8770, f1_score = 0.3650\n",
      " lambda= 0, gamma= 0.15, threshold = 0.3 CV accuracy = 0.8942, f1_score = 0.3578\n",
      " lambda= 0, gamma= 0.15, threshold = 0.35 CV accuracy = 0.8966, f1_score = 0.3181\n",
      " lambda= 0, gamma= 0.15, threshold = 0.4 CV accuracy = 0.9051, f1_score = 0.3142\n",
      " lambda= 0.0001, gamma= 0.15, threshold = 0.1 CV accuracy = 0.7895, f1_score = 0.3607\n",
      " lambda= 0.0001, gamma= 0.15, threshold = 0.15 CV accuracy = 0.8358, f1_score = 0.3749\n",
      " lambda= 0.0001, gamma= 0.15, threshold = 0.2 CV accuracy = 0.8632, f1_score = 0.3736\n",
      " lambda= 0.0001, gamma= 0.15, threshold = 0.25 CV accuracy = 0.8561, f1_score = 0.3283\n",
      " lambda= 0.0001, gamma= 0.15, threshold = 0.3 CV accuracy = 0.8919, f1_score = 0.3639\n",
      " lambda= 0.0001, gamma= 0.15, threshold = 0.35 CV accuracy = 0.9008, f1_score = 0.3349\n",
      " lambda= 0.0001, gamma= 0.15, threshold = 0.4 CV accuracy = 0.9087, f1_score = 0.3178\n",
      " lambda= 1e-05, gamma= 0.15, threshold = 0.1 CV accuracy = 0.7927, f1_score = 0.3654\n",
      " lambda= 1e-05, gamma= 0.15, threshold = 0.15 CV accuracy = 0.8374, f1_score = 0.3769\n",
      " lambda= 1e-05, gamma= 0.15, threshold = 0.2 CV accuracy = 0.8563, f1_score = 0.3696\n",
      " lambda= 1e-05, gamma= 0.15, threshold = 0.25 CV accuracy = 0.8821, f1_score = 0.3733\n",
      " lambda= 1e-05, gamma= 0.15, threshold = 0.3 CV accuracy = 0.8864, f1_score = 0.3437\n",
      " lambda= 1e-05, gamma= 0.15, threshold = 0.35 CV accuracy = 0.9018, f1_score = 0.3418\n",
      " lambda= 1e-05, gamma= 0.15, threshold = 0.4 CV accuracy = 0.9069, f1_score = 0.3109\n",
      " lambda= 0, gamma= 0.2, threshold = 0.1 CV accuracy = 0.7915, f1_score = 0.3735\n",
      " lambda= 0, gamma= 0.2, threshold = 0.15 CV accuracy = 0.8290, f1_score = 0.3721\n",
      " lambda= 0, gamma= 0.2, threshold = 0.2 CV accuracy = 0.8638, f1_score = 0.3771\n",
      " lambda= 0, gamma= 0.2, threshold = 0.25 CV accuracy = 0.8780, f1_score = 0.3630\n",
      " lambda= 0, gamma= 0.2, threshold = 0.3 CV accuracy = 0.8934, f1_score = 0.3613\n",
      " lambda= 0, gamma= 0.2, threshold = 0.35 CV accuracy = 0.9014, f1_score = 0.3473\n",
      " lambda= 0, gamma= 0.2, threshold = 0.4 CV accuracy = 0.9008, f1_score = 0.3009\n",
      " lambda= 0.0001, gamma= 0.2, threshold = 0.1 CV accuracy = 0.7910, f1_score = 0.3637\n",
      " lambda= 0.0001, gamma= 0.2, threshold = 0.15 CV accuracy = 0.8356, f1_score = 0.3747\n",
      " lambda= 0.0001, gamma= 0.2, threshold = 0.2 CV accuracy = 0.8646, f1_score = 0.3845\n",
      " lambda= 0.0001, gamma= 0.2, threshold = 0.25 CV accuracy = 0.8800, f1_score = 0.3635\n",
      " lambda= 0.0001, gamma= 0.2, threshold = 0.3 CV accuracy = 0.8949, f1_score = 0.3650\n",
      " lambda= 0.0001, gamma= 0.2, threshold = 0.35 CV accuracy = 0.8957, f1_score = 0.3253\n",
      " lambda= 0.0001, gamma= 0.2, threshold = 0.4 CV accuracy = 0.9087, f1_score = 0.3096\n",
      " lambda= 1e-05, gamma= 0.2, threshold = 0.1 CV accuracy = 0.7914, f1_score = 0.3696\n",
      " lambda= 1e-05, gamma= 0.2, threshold = 0.15 CV accuracy = 0.8378, f1_score = 0.3869\n",
      " lambda= 1e-05, gamma= 0.2, threshold = 0.2 CV accuracy = 0.8635, f1_score = 0.3807\n",
      " lambda= 1e-05, gamma= 0.2, threshold = 0.25 CV accuracy = 0.8776, f1_score = 0.3683\n",
      " lambda= 1e-05, gamma= 0.2, threshold = 0.3 CV accuracy = 0.8832, f1_score = 0.3368\n",
      " lambda= 1e-05, gamma= 0.2, threshold = 0.35 CV accuracy = 0.9032, f1_score = 0.3465\n",
      " lambda= 1e-05, gamma= 0.2, threshold = 0.4 CV accuracy = 0.9014, f1_score = 0.3068\n",
      " lambda= 0, gamma= 0.25, threshold = 0.1 CV accuracy = 0.7894, f1_score = 0.3624\n",
      " lambda= 0, gamma= 0.25, threshold = 0.15 CV accuracy = 0.8384, f1_score = 0.3815\n",
      " lambda= 0, gamma= 0.25, threshold = 0.2 CV accuracy = 0.8604, f1_score = 0.3782\n",
      " lambda= 0, gamma= 0.25, threshold = 0.25 CV accuracy = 0.8854, f1_score = 0.3921\n",
      " lambda= 0, gamma= 0.25, threshold = 0.3 CV accuracy = 0.8873, f1_score = 0.3481\n",
      " lambda= 0, gamma= 0.25, threshold = 0.35 CV accuracy = 0.8992, f1_score = 0.3322\n",
      " lambda= 0, gamma= 0.25, threshold = 0.4 CV accuracy = 0.9057, f1_score = 0.3101\n",
      " lambda= 0.0001, gamma= 0.25, threshold = 0.1 CV accuracy = 0.7905, f1_score = 0.3718\n",
      " lambda= 0.0001, gamma= 0.25, threshold = 0.15 CV accuracy = 0.8311, f1_score = 0.3698\n",
      " lambda= 0.0001, gamma= 0.25, threshold = 0.2 CV accuracy = 0.8627, f1_score = 0.3804\n",
      " lambda= 0.0001, gamma= 0.25, threshold = 0.25 CV accuracy = 0.8808, f1_score = 0.3785\n",
      " lambda= 0.0001, gamma= 0.25, threshold = 0.3 CV accuracy = 0.8865, f1_score = 0.3450\n",
      " lambda= 0.0001, gamma= 0.25, threshold = 0.35 CV accuracy = 0.8989, f1_score = 0.3360\n",
      " lambda= 0.0001, gamma= 0.25, threshold = 0.4 CV accuracy = 0.9072, f1_score = 0.3228\n",
      " lambda= 1e-05, gamma= 0.25, threshold = 0.1 CV accuracy = 0.7936, f1_score = 0.3736\n",
      " lambda= 1e-05, gamma= 0.25, threshold = 0.15 CV accuracy = 0.8382, f1_score = 0.3942\n",
      " lambda= 1e-05, gamma= 0.25, threshold = 0.2 CV accuracy = 0.8637, f1_score = 0.3804\n",
      " lambda= 1e-05, gamma= 0.25, threshold = 0.25 CV accuracy = 0.8812, f1_score = 0.3838\n",
      " lambda= 1e-05, gamma= 0.25, threshold = 0.3 CV accuracy = 0.8923, f1_score = 0.3553\n",
      " lambda= 1e-05, gamma= 0.25, threshold = 0.35 CV accuracy = 0.9037, f1_score = 0.3397\n",
      " lambda= 1e-05, gamma= 0.25, threshold = 0.4 CV accuracy = 0.9035, f1_score = 0.3097\n",
      " lambda= 0, gamma= 0.3, threshold = 0.1 CV accuracy = 0.7912, f1_score = 0.3604\n",
      " lambda= 0, gamma= 0.3, threshold = 0.15 CV accuracy = 0.8361, f1_score = 0.3776\n",
      " lambda= 0, gamma= 0.3, threshold = 0.2 CV accuracy = 0.8665, f1_score = 0.3994\n",
      " lambda= 0, gamma= 0.3, threshold = 0.25 CV accuracy = 0.8816, f1_score = 0.3803\n",
      " lambda= 0, gamma= 0.3, threshold = 0.3 CV accuracy = 0.8931, f1_score = 0.3524\n",
      " lambda= 0, gamma= 0.3, threshold = 0.35 CV accuracy = 0.8983, f1_score = 0.3375\n",
      " lambda= 0, gamma= 0.3, threshold = 0.4 CV accuracy = 0.9082, f1_score = 0.3286\n",
      " lambda= 0.0001, gamma= 0.3, threshold = 0.1 CV accuracy = 0.7915, f1_score = 0.3802\n",
      " lambda= 0.0001, gamma= 0.3, threshold = 0.15 CV accuracy = 0.8351, f1_score = 0.3719\n",
      " lambda= 0.0001, gamma= 0.3, threshold = 0.2 CV accuracy = 0.8660, f1_score = 0.3870\n",
      " lambda= 0.0001, gamma= 0.3, threshold = 0.25 CV accuracy = 0.8793, f1_score = 0.3710\n",
      " lambda= 0.0001, gamma= 0.3, threshold = 0.3 CV accuracy = 0.8940, f1_score = 0.3607\n",
      " lambda= 0.0001, gamma= 0.3, threshold = 0.35 CV accuracy = 0.9022, f1_score = 0.3413\n",
      " lambda= 0.0001, gamma= 0.3, threshold = 0.4 CV accuracy = 0.9014, f1_score = 0.3019\n",
      " lambda= 1e-05, gamma= 0.3, threshold = 0.1 CV accuracy = 0.7925, f1_score = 0.3694\n",
      " lambda= 1e-05, gamma= 0.3, threshold = 0.15 CV accuracy = 0.8379, f1_score = 0.3849\n",
      " lambda= 1e-05, gamma= 0.3, threshold = 0.2 CV accuracy = 0.8675, f1_score = 0.3931\n",
      " lambda= 1e-05, gamma= 0.3, threshold = 0.25 CV accuracy = 0.8836, f1_score = 0.3803\n",
      " lambda= 1e-05, gamma= 0.3, threshold = 0.3 CV accuracy = 0.8939, f1_score = 0.3660\n",
      " lambda= 1e-05, gamma= 0.3, threshold = 0.35 CV accuracy = 0.9026, f1_score = 0.3449\n",
      " lambda= 1e-05, gamma= 0.3, threshold = 0.4 CV accuracy = 0.9085, f1_score = 0.3172\n"
     ]
    }
   ],
   "source": [
    "initial_w = np.random.rand(x_data.shape[1])\n",
    "\n",
    "best_lambda, best_gamma, best_threshold = hyperparameter_tuning(x_data, y_data , reg_logistic_regression_batch,lambdas= [0, 1e-4, 1e-5], \n",
    "                                            gammas=[0.1, 0.15, 0.2, 0.25, 0.3], thresholds=[0.1, 0.15, 0.2, 0.25, 0.3, 0.35, 0.4],\n",
    "                                            model_params={'initial_w': initial_w ,'max_iters': 10000})\n",
    "\n",
    "# best"
   ]
  },
  {
   "cell_type": "code",
   "execution_count": 140,
   "metadata": {},
   "outputs": [
    {
     "data": {
      "text/plain": [
       "(0, 0.25, 0.25)"
      ]
     },
     "execution_count": 140,
     "metadata": {},
     "output_type": "execute_result"
    }
   ],
   "source": [
    "best_lambda, best_gamma, best_threshold"
   ]
  },
  {
   "cell_type": "code",
   "execution_count": 38,
   "metadata": {},
   "outputs": [
    {
     "name": "stdout",
     "output_type": "stream",
     "text": [
      "Original Data:\n",
      "(20000, 322)\n",
      "\n",
      "Cleaned Data:\n",
      "(20000, 322)\n"
     ]
    }
   ],
   "source": [
    "def remove_rows_by_indices(matrix, indices_to_remove):\n",
    "    # Create a mask to select rows that are not in the list of indices to remove\n",
    "    mask = np.ones(matrix.shape[0], dtype=bool)\n",
    "    mask[indices_to_remove] = False\n",
    "\n",
    "    # Apply the mask to the matrix to remove specified rows\n",
    "    cleaned_matrix = matrix[mask]\n",
    "\n",
    "    return cleaned_matrix\n",
    "\n",
    "def remove_outliers_from_matrix(x_data, y_data, max_deviations, percentage):\n",
    "    # Calculate the mean and standard deviation for the entire matrix\n",
    "    mean = np.mean(x_data, axis=0)\n",
    "    #print(\"mean = \", mean)\n",
    "    std = np.std(x_data, axis=0)\n",
    "    #print(\"std = \",std)\n",
    "    \n",
    "    # Calculate the absolute deviation from the mean for the entire matrix\n",
    "    distance_from_mean = []\n",
    "    for i in range(x_data.shape[0]):\n",
    "        distance_from_mean.append( np.abs(x_data[i] - mean))\n",
    "    #print(\"distance = \", distance_from_mean)\n",
    "\n",
    "    distance_from_mean = np.array(distance_from_mean)\n",
    "\n",
    "    #print(\"max_deviations * std = \", max_deviations * std)\n",
    "\n",
    "    # Create a mask to identify outliers based on the absolute deviation\n",
    "    outlier_sample = distance_from_mean > max_deviations * std\n",
    "\n",
    "    #print(\"outlier samples = \\n\", outlier_sample)\n",
    "    count = np.zeros(x_data.shape[0])\n",
    "    samples_to_drop = []\n",
    "    for i in range(x_data.shape[0]):\n",
    "        count[i] = np.count_nonzero(outlier_sample[i])\n",
    "        if count[i] > percentage * x_data.shape[1]:\n",
    "            samples_to_drop.append(i)\n",
    "    #print(\"count = \", count)\n",
    "    #print(\"to drop = \", samples_to_drop)\n",
    "\n",
    "    x_data_cleaned = remove_rows_by_indices(x_data, samples_to_drop)\n",
    "    y_data_cleaned = remove_rows_by_indices(y_data, samples_to_drop)\n",
    "    \n",
    "    return x_data_cleaned, y_data_cleaned\n",
    "\n",
    "\n",
    "# Example usage:\n",
    "# Create a sample data matrix with outliers\n",
    "data_matrix = np.array([[1, 1, 1],\n",
    "                        [4, 5, 6],\n",
    "                        [7, 80000, 900000],\n",
    "                        [20000, 10000, 10000000],\n",
    "                        [-20000, -10000, -10000000]])  # Outlier in each column \n",
    "\n",
    "# Remove outliers from the matrix using the function\n",
    "cleaned_data_x, cleaned_data_y = remove_outliers_from_matrix(normalize(x_data),y_data,0.1, 0.28)\n",
    "\n",
    "print(\"Original Data:\")\n",
    "print(x_data.shape)\n",
    "print(\"\\nCleaned Data:\")\n",
    "print(cleaned_data_x.shape)"
   ]
  },
  {
   "cell_type": "code",
   "execution_count": 8,
   "metadata": {},
   "outputs": [],
   "source": [
    "# hyperparameter tuning with only a part of the dataset\n",
    "MAX_ROWS = 10000\n",
    "\n",
    "x_data = np.genfromtxt('data/dataset/x_train.csv', delimiter=\",\", skip_header=1, max_rows=MAX_ROWS)\n",
    "y_data = np.genfromtxt('data/dataset/y_train.csv', delimiter=\",\", skip_header=1, max_rows=MAX_ROWS)\n",
    "\n",
    "# cleaned_data_x, cleaned_data_y = remove_outliers_from_matrix(x_data,y_data,0.01, 0.1)\n",
    "\n",
    "# print(\"Original Data:\")\n",
    "# print(x_data.shape)\n",
    "# print(\"\\nCleaned Data:\")\n",
    "# print(cleaned_data_x.shape)"
   ]
  },
  {
   "cell_type": "code",
   "execution_count": 9,
   "metadata": {},
   "outputs": [
    {
     "name": "stderr",
     "output_type": "stream",
     "text": [
      "/tmp/ipykernel_13132/4038613462.py:22: PerformanceWarning: DataFrame is highly fragmented.  This is usually the result of calling `frame.insert` many times, which has poor performance.  Consider joining all columns at once using pd.concat(axis=1) instead.  To get a de-fragmented frame, use `newframe = frame.copy()`\n",
      "  augmented_df[f'{col}_pow_{deg}'] = df[col] ** deg\n",
      "/tmp/ipykernel_13132/4038613462.py:29: PerformanceWarning: DataFrame is highly fragmented.  This is usually the result of calling `frame.insert` many times, which has poor performance.  Consider joining all columns at once using pd.concat(axis=1) instead.  To get a de-fragmented frame, use `newframe = frame.copy()`\n",
      "  augmented_df[f'{colname_i}_x_{colname_j}'] = df[colname_i] * df[colname_j]\n"
     ]
    }
   ],
   "source": [
    "import numpy as np\n",
    "import pandas as pd\n",
    "\n",
    "def augment_features(df, degree=2):\n",
    "    \"\"\"\n",
    "    Augment the features of a dataset.\n",
    "\n",
    "    Parameters:\n",
    "    - df: DataFrame containing the data.\n",
    "    - degree: Degree of polynomial features to be generated.\n",
    "\n",
    "    Returns:\n",
    "    - Augmented DataFrame.\n",
    "    \"\"\"\n",
    "\n",
    "    augmented_df = df.copy()\n",
    "    numeric_columns = df.select_dtypes(['float64', 'int64']).columns\n",
    "\n",
    "    # Polynomial features\n",
    "    for col in numeric_columns:\n",
    "        for deg in range(2, degree + 1):\n",
    "            augmented_df[f'{col}_pow_{deg}'] = df[col] ** deg\n",
    "\n",
    "    # Interaction terms\n",
    "    for i in range(len(numeric_columns)):\n",
    "        for j in range(i + 1, len(numeric_columns)):\n",
    "            colname_i = numeric_columns[i]\n",
    "            colname_j = numeric_columns[j]\n",
    "            augmented_df[f'{colname_i}_x_{colname_j}'] = df[colname_i] * df[colname_j]\n",
    "\n",
    "    return augmented_df\n",
    "\n",
    "# Example\n",
    "data = {\n",
    "    'A': [1, 2, 3, 4, 5],\n",
    "    'B': [5, 4, 3, 2, 1],\n",
    "    'C': ['a', 'b', 'a', 'c', 'b']\n",
    "}\n",
    "df = pd.DataFrame(data)\n",
    "\n",
    "x_train = augment_features(pd.DataFrame(x_data), degree=2)\n",
    "\n"
   ]
  },
  {
   "cell_type": "code",
   "execution_count": 7,
   "metadata": {},
   "outputs": [
    {
     "data": {
      "text/plain": [
       "(20000, 52647)"
      ]
     },
     "execution_count": 7,
     "metadata": {},
     "output_type": "execute_result"
    }
   ],
   "source": [
    "x_train.shape"
   ]
  },
  {
   "cell_type": "code",
   "execution_count": null,
   "metadata": {},
   "outputs": [],
   "source": [
    "\n",
    "k_fold_cross_validation(x_train, y_train, reg_logistic_regression_batch, k= 5,\n",
    "                                                model_params={'initial_w': np.random.rand(x_train.shape[1]),\n",
    "                                                         'max_iters': 5000, 'gamma':0.25, 'lambda_': 0, 'batch_size' : 100}, threshold=0.2)\n"
   ]
  }
 ],
 "metadata": {
  "kernelspec": {
   "display_name": "Python 3",
   "language": "python",
   "name": "python3"
  },
  "language_info": {
   "codemirror_mode": {
    "name": "ipython",
    "version": 3
   },
   "file_extension": ".py",
   "mimetype": "text/x-python",
   "name": "python",
   "nbconvert_exporter": "python",
   "pygments_lexer": "ipython3",
   "version": "3.10.12"
  }
 },
 "nbformat": 4,
 "nbformat_minor": 2
}
