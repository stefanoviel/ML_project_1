{
 "cells": [
  {
   "cell_type": "code",
   "execution_count": 4,
   "metadata": {},
   "outputs": [],
   "source": [
    "import numpy as np "
   ]
  },
  {
   "cell_type": "code",
   "execution_count": 5,
   "metadata": {},
   "outputs": [],
   "source": [
    "y = np.array([[0.],\n",
    "       [1.],\n",
    "       [1.]])\n",
    "\n",
    "\n",
    "MAX_ITERS = 2\n",
    "GAMMA = 0.1\n",
    "\n",
    "\n",
    "tx = np.array([[2.3, 3.2],\n",
    "       [1. , 0.1],\n",
    "       [1.4, 2.3]])\n",
    "\n",
    "initial_w = np.array([[0.5],\n",
    "       [1. ]])"
   ]
  },
  {
   "cell_type": "code",
   "execution_count": 6,
   "metadata": {},
   "outputs": [],
   "source": [
    "\n",
    "def compute_logistic_reg_loss(y, tx, w, lambda_): \n",
    "\n",
    "    pred = np.dot(tx, w)\n",
    "    sigmoids = 1.0 / (1 + np.exp(-pred))\n",
    "    loss = -np.mean(y * np.log(sigmoids) + (1 - y) * np.log(1 - sigmoids)) + (lambda_ / 2) * np.linalg.norm(w)**2\n",
    "    return sigmoids, loss\n",
    "\n",
    "def reg_logistic_regression(y, tx, initial_w, gamma, max_iters, lambda_):\n",
    "    \"\"\"\n",
    "    Perform regularized logistic regression using gradient descent.\n",
    "    \n",
    "    Parameters:\n",
    "    y: np.array\n",
    "        The target values\n",
    "    tx: np.array\n",
    "        The data matrix (each row is a data point)\n",
    "    initial_w: np.array\n",
    "        Initial weights\n",
    "    max_iters: int\n",
    "        Maximum number of iterations for gradient descent\n",
    "    gamma: float\n",
    "        Learning rate\n",
    "    lambda_: float\n",
    "        Regularization strength for L2 penalty\n",
    "\n",
    "    Returns:\n",
    "    w: np.array\n",
    "        Optimized weights after training\n",
    "    \"\"\"\n",
    "    \n",
    "    w = initial_w\n",
    "\n",
    "    sigmoids, loss = compute_logistic_reg_loss(y, tx, w, lambda_)\n",
    "\n",
    "    \n",
    "    for iter in range(max_iters):\n",
    "\n",
    "        # compute the gradient\n",
    "        grad = tx.T.dot(sigmoids - y)/len(y) + 2 * lambda_ * w\n",
    "\n",
    "        # update w through the negative gradient direction\n",
    "        w = w - gamma * grad\n",
    "\n",
    "        sigmoids, loss = compute_logistic_reg_loss(y, tx, w, lambda_)\n",
    "        \n",
    "    return w, loss"
   ]
  },
  {
   "cell_type": "code",
   "execution_count": 7,
   "metadata": {},
   "outputs": [
    {
     "ename": "TypeError",
     "evalue": "reg_logistic_regression() missing 1 required positional argument: 'lambda_'",
     "output_type": "error",
     "traceback": [
      "\u001b[0;31m---------------------------------------------------------------------------\u001b[0m",
      "\u001b[0;31mTypeError\u001b[0m                                 Traceback (most recent call last)",
      "\u001b[1;32m/home/stefano/Documents/EPFL/projects/ML_project_1/test.ipynb Cell 4\u001b[0m line \u001b[0;36m1\n\u001b[0;32m----> <a href='vscode-notebook-cell:/home/stefano/Documents/EPFL/projects/ML_project_1/test.ipynb#W3sZmlsZQ%3D%3D?line=0'>1</a>\u001b[0m reg_logistic_regression(y, tx, initial_w, MAX_ITERS , GAMMA)\n",
      "\u001b[0;31mTypeError\u001b[0m: reg_logistic_regression() missing 1 required positional argument: 'lambda_'"
     ]
    }
   ],
   "source": [
    "reg_logistic_regression(y, tx, initial_w, MAX_ITERS , GAMMA, 0.4)\n"
   ]
  },
  {
   "cell_type": "code",
   "execution_count": null,
   "metadata": {},
   "outputs": [],
   "source": []
  }
 ],
 "metadata": {
  "kernelspec": {
   "display_name": "Python 3",
   "language": "python",
   "name": "python3"
  },
  "language_info": {
   "codemirror_mode": {
    "name": "ipython",
    "version": 3
   },
   "file_extension": ".py",
   "mimetype": "text/x-python",
   "name": "python",
   "nbconvert_exporter": "python",
   "pygments_lexer": "ipython3",
   "version": "3.10.12"
  }
 },
 "nbformat": 4,
 "nbformat_minor": 2
}
