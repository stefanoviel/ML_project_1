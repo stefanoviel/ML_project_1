{
 "cells": [
  {
   "cell_type": "code",
   "execution_count": 18,
   "metadata": {},
   "outputs": [],
   "source": [
    "import numpy as np \n",
    "from helpers import * \n",
    "from implementations import logistic_regression"
   ]
  },
  {
   "cell_type": "code",
   "execution_count": 64,
   "metadata": {},
   "outputs": [
    {
     "data": {
      "text/plain": [
       "False"
      ]
     },
     "execution_count": 64,
     "metadata": {},
     "output_type": "execute_result"
    }
   ],
   "source": [
    "MAX_ROWS = 1000 \n",
    "\n",
    "x_train = np.genfromtxt('data/dataset/x_train.csv', delimiter=\",\", skip_header=1,  max_rows=MAX_ROWS)\n",
    "y_train = np.genfromtxt('data/dataset/y_train.csv', delimiter=\",\", skip_header=1,  max_rows=MAX_ROWS)\n",
    "\n",
    "x_train[np.isnan(x_train)] = 0"
   ]
  },
  {
   "cell_type": "code",
   "execution_count": 129,
   "metadata": {},
   "outputs": [],
   "source": [
    "def sigmoid(t):\n",
    "    \"\"\"Apply the logistic function.\"\"\"\n",
    "    return 1.0 / (1 + np.exp(-t))\n",
    "\n",
    "    \n",
    "def compute_logistic_loss(y, tx, w): \n",
    "\n",
    "    pred = tx@w\n",
    "    # sigmoids = 1.0 / (1 + np.clip(np.exp(-pred), 10e-10, np.inf))\n",
    "    \n",
    "    sigmoids = (1 / (1 + np.exp(-pred))).astype('float128')\n",
    "    # sigmoids = pred #1.0 / (1 + np.exp(-pred))\n",
    "    # sigmoids_clipped = np.clip(sigmoids , 10e-10, 1 - 10e-10)\n",
    "    sigmoids_clipped = (1 / (1 + np.exp(-pred))).astype('float128')\n",
    "\n",
    "    \n",
    "    loss = -np.mean(y * np.log(sigmoids_clipped) + (1 - y) * np.log(1 - sigmoids_clipped)) \n",
    "    # loss = -np.mean(pred) \n",
    "    return sigmoids, loss\n",
    "\n",
    "\n",
    "def logistic_regression(y, tx, initial_w, max_iters, gamma):\n",
    "    \"\"\"\n",
    "    Perform logistic regression using gradient descent.\n",
    "    \n",
    "    Parameters:\n",
    "    y: np.array\n",
    "        The target values\n",
    "    tx: np.array\n",
    "        The data matrix (each row is a data point)\n",
    "    initial_w: np.array\n",
    "        Initial weights\n",
    "    max_iters: int\n",
    "        Maximum number of iterations for gradient descent\n",
    "    gamma: float\n",
    "        Learning rate\n",
    "\n",
    "    Returns:\n",
    "    w: np.array\n",
    "        Optimized weights after training\n",
    "    \"\"\"\n",
    "    \n",
    "    w = initial_w\n",
    "\n",
    "    sigmoids, loss = compute_logistic_loss(y, tx, w )\n",
    "    \n",
    "    for iter in range(max_iters):\n",
    "        # compute the gradient\n",
    "\n",
    "        grad =  tx.T.dot(sigmoids - y)/len(tx)\n",
    "\n",
    "        # update w through the negative gradient direction\n",
    "        w = w - gamma * grad\n",
    "\n",
    "        sigmoids, loss = compute_logistic_loss(y, tx, w)\n",
    "        \n",
    "    return w, loss"
   ]
  },
  {
   "cell_type": "code",
   "execution_count": 130,
   "metadata": {},
   "outputs": [
    {
     "name": "stderr",
     "output_type": "stream",
     "text": [
      "/tmp/ipykernel_5948/1723727896.py:11: RuntimeWarning: overflow encountered in exp\n",
      "  sigmoids = 1 / (1 + np.exp(-pred))\n"
     ]
    },
    {
     "data": {
      "text/plain": [
       "1.9065404579070693"
      ]
     },
     "execution_count": 130,
     "metadata": {},
     "output_type": "execute_result"
    }
   ],
   "source": [
    "N, D = x_train.shape\n",
    "initial_w = np.random.rand(D)\n",
    "\n",
    "w, loss = logistic_regression(y_train.reshape(-1, 1), x_train, initial_w.reshape(-1, 1), 100, 0.01)\n",
    "\n",
    "loss"
   ]
  },
  {
   "cell_type": "code",
   "execution_count": 110,
   "metadata": {},
   "outputs": [
    {
     "data": {
      "text/plain": [
       "0.0"
      ]
     },
     "execution_count": 110,
     "metadata": {},
     "output_type": "execute_result"
    }
   ],
   "source": [
    "1.0 / float('inf')"
   ]
  },
  {
   "cell_type": "code",
   "execution_count": 128,
   "metadata": {},
   "outputs": [
    {
     "data": {
      "text/plain": [
       "0.0"
      ]
     },
     "execution_count": 128,
     "metadata": {},
     "output_type": "execute_result"
    }
   ],
   "source": [
    "1 / (1 + np.exp(10e10000))"
   ]
  }
 ],
 "metadata": {
  "kernelspec": {
   "display_name": "Python 3",
   "language": "python",
   "name": "python3"
  },
  "language_info": {
   "codemirror_mode": {
    "name": "ipython",
    "version": 3
   },
   "file_extension": ".py",
   "mimetype": "text/x-python",
   "name": "python",
   "nbconvert_exporter": "python",
   "pygments_lexer": "ipython3",
   "version": "3.10.12"
  }
 },
 "nbformat": 4,
 "nbformat_minor": 2
}
