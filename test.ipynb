{
 "cells": [
  {
   "cell_type": "code",
   "execution_count": 2,
   "metadata": {},
   "outputs": [],
   "source": [
    "import numpy as np "
   ]
  },
  {
   "cell_type": "code",
   "execution_count": 56,
   "metadata": {},
   "outputs": [],
   "source": [
    "y = np.array([[0.],\n",
    "       [1.],\n",
    "       [1.]])\n",
    "\n",
    "\n",
    "MAX_ITERS = 2\n",
    "GAMMA = 0.1\n",
    "\n",
    "\n",
    "tx = np.array([[2.3, 3.2],\n",
    "       [1. , 0.1],\n",
    "       [1.4, 2.3]])\n",
    "\n",
    "initial_w = np.array([[0.409111], [0.843996]])"
   ]
  },
  {
   "cell_type": "code",
   "execution_count": 57,
   "metadata": {},
   "outputs": [
    {
     "data": {
      "text/plain": [
       "(0.9379238019887329,)"
      ]
     },
     "execution_count": 57,
     "metadata": {},
     "output_type": "execute_result"
    }
   ],
   "source": [
    "np.sqrt(np.sum(initial_w**2)), "
   ]
  },
  {
   "cell_type": "code",
   "execution_count": 124,
   "metadata": {},
   "outputs": [
    {
     "data": {
      "text/plain": [
       "numpy.float64"
      ]
     },
     "execution_count": 124,
     "metadata": {},
     "output_type": "execute_result"
    }
   ],
   "source": [
    "\n",
    "def compute_logistic_loss(y, tx, w, lambda_): \n",
    "\n",
    "    pred = np.dot(tx, w)\n",
    "    sigmoids = 1.0 / (1 + np.exp(-pred))\n",
    "    loss = -np.mean(y * np.log(sigmoids) + (1 - y) * np.log(1 - sigmoids)) + (lambda_ /2) * np.linalg.norm(initial_w) ** 2\n",
    "    return sigmoids, loss\n",
    "\n",
    "def reg_logistic_regression(y, tx, lambda_, initial_w, max_iters, gamma):\n",
    "    \"\"\"\n",
    "    Perform regularized logistic regression using gradient descent.\n",
    "    \n",
    "    Parameters:\n",
    "    y: np.array\n",
    "        The target values\n",
    "    tx: np.array\n",
    "        The data matrix (each row is a data point)\n",
    "    initial_w: np.array\n",
    "        Initial weights\n",
    "    max_iters: int\n",
    "        Maximum number of iterations for gradient descent\n",
    "    gamma: float\n",
    "        Learning rate\n",
    "    lambda_: float\n",
    "        Regularization strength for L2 penalty\n",
    "\n",
    "    Returns:\n",
    "    w: np.array\n",
    "        Optimized weights after training\n",
    "    \"\"\"\n",
    "    \n",
    "    w = initial_w\n",
    "    \n",
    "    sigmoids, loss = compute_logistic_loss(y, tx, w, 0)\n",
    "\n",
    "    \n",
    "    for iter in range(max_iters):\n",
    "\n",
    "        # compute the gradient\n",
    "        grad = tx.T.dot(sigmoids - y)/len(y) + 2 * lambda_ * w\n",
    "\n",
    "        # update w through the negative gradient direction\n",
    "        w = w - gamma * grad\n",
    "\n",
    "        sigmoids, loss = compute_logistic_loss(y, tx, w, lambda_)\n",
    "        \n",
    "    return w, loss.astype('float')\n",
    "\n",
    "w, loss = reg_logistic_regression(y, tx, 1.0, initial_w,  0, GAMMA)\n",
    "type()"
   ]
  },
  {
   "cell_type": "code",
   "execution_count": 115,
   "metadata": {},
   "outputs": [
    {
     "data": {
      "text/plain": [
       "1.4073273893870055"
      ]
     },
     "execution_count": 115,
     "metadata": {},
     "output_type": "execute_result"
    }
   ],
   "source": [
    "\n",
    "\n",
    "def compute_logistic_loss(y, tx, w, lambda_): \n",
    "\n",
    "    pred = np.dot(tx, w)\n",
    "    sigmoids = 1.0 / (1 + np.exp(-pred))\n",
    "    loss = -np.mean(y * np.log(sigmoids) + (1 - y) * np.log(1 - sigmoids)) + (lambda_ ) * np.linalg.norm(w) ** 2\n",
    "    return sigmoids, loss\n",
    "\n",
    "\n",
    "\n",
    "def logistic_regression(y, tx, initial_w, max_iters, gamma):\n",
    "    \"\"\"\n",
    "    Perform logistic regression using gradient descent.\n",
    "    \n",
    "    Parameters:\n",
    "    y: np.array\n",
    "        The target values\n",
    "    tx: np.array\n",
    "        The data matrix (each row is a data point)\n",
    "    initial_w: np.array\n",
    "        Initial weights\n",
    "    max_iters: int\n",
    "        Maximum number of iterations for gradient descent\n",
    "    gamma: float\n",
    "        Learning rate\n",
    "\n",
    "    Returns:\n",
    "    w: np.array\n",
    "        Optimized weights after training\n",
    "    \"\"\"\n",
    "    \n",
    "    w = initial_w\n",
    "\n",
    "    sigmoids, loss = compute_logistic_loss(y, tx, w, 0)\n",
    "    \n",
    "    for iter in range(max_iters):\n",
    "        # compute the gradient\n",
    "\n",
    "        grad =  tx.T.dot(sigmoids - y)/len(tx)\n",
    "\n",
    "        # update w through the negative gradient direction\n",
    "        w = w - gamma * grad\n",
    "\n",
    "        sigmoids, loss = compute_logistic_loss(y, tx, w, 0)\n",
    "        \n",
    "    return w, loss\n",
    "\n",
    "w, loss = logistic_regression(y, tx, initial_w,  0, GAMMA)\n",
    "loss"
   ]
  },
  {
   "cell_type": "code",
   "execution_count": 112,
   "metadata": {},
   "outputs": [
    {
     "ename": "AssertionError",
     "evalue": "\nNot equal to tolerance rtol=0.0001, atol=1e-08\n\nMismatched elements: 1 / 1 (100%)\nMax absolute difference: 0.73172867\nMax relative difference: 0.51994218\n x: array(2.139056)\n y: array(1.407327)",
     "output_type": "error",
     "traceback": [
      "\u001b[0;31m---------------------------------------------------------------------------\u001b[0m",
      "\u001b[0;31mAssertionError\u001b[0m                            Traceback (most recent call last)",
      "\u001b[0;32m/tmp/ipykernel_14517/3387989538.py\u001b[0m in \u001b[0;36m<module>\u001b[0;34m\u001b[0m\n\u001b[1;32m      4\u001b[0m \u001b[0mATOL\u001b[0m \u001b[0;34m=\u001b[0m \u001b[0;36m1e-8\u001b[0m\u001b[0;34m\u001b[0m\u001b[0;34m\u001b[0m\u001b[0m\n\u001b[1;32m      5\u001b[0m \u001b[0;34m\u001b[0m\u001b[0m\n\u001b[0;32m----> 6\u001b[0;31m \u001b[0mnp\u001b[0m\u001b[0;34m.\u001b[0m\u001b[0mtesting\u001b[0m\u001b[0;34m.\u001b[0m\u001b[0massert_allclose\u001b[0m\u001b[0;34m(\u001b[0m\u001b[0mloss\u001b[0m\u001b[0;34m,\u001b[0m \u001b[0mexpected_loss\u001b[0m\u001b[0;34m,\u001b[0m \u001b[0mrtol\u001b[0m\u001b[0;34m=\u001b[0m \u001b[0mRTOL\u001b[0m\u001b[0;34m,\u001b[0m \u001b[0matol\u001b[0m\u001b[0;34m=\u001b[0m \u001b[0mATOL\u001b[0m\u001b[0;34m)\u001b[0m\u001b[0;34m\u001b[0m\u001b[0;34m\u001b[0m\u001b[0m\n\u001b[0m",
      "    \u001b[0;31m[... skipping hidden 1 frame]\u001b[0m\n",
      "\u001b[0;32m/usr/lib/python3/dist-packages/numpy/testing/_private/utils.py\u001b[0m in \u001b[0;36massert_array_compare\u001b[0;34m(comparison, x, y, err_msg, verbose, header, precision, equal_nan, equal_inf)\u001b[0m\n\u001b[1;32m    842\u001b[0m                                 \u001b[0mverbose\u001b[0m\u001b[0;34m=\u001b[0m\u001b[0mverbose\u001b[0m\u001b[0;34m,\u001b[0m \u001b[0mheader\u001b[0m\u001b[0;34m=\u001b[0m\u001b[0mheader\u001b[0m\u001b[0;34m,\u001b[0m\u001b[0;34m\u001b[0m\u001b[0;34m\u001b[0m\u001b[0m\n\u001b[1;32m    843\u001b[0m                                 names=('x', 'y'), precision=precision)\n\u001b[0;32m--> 844\u001b[0;31m             \u001b[0;32mraise\u001b[0m \u001b[0mAssertionError\u001b[0m\u001b[0;34m(\u001b[0m\u001b[0mmsg\u001b[0m\u001b[0;34m)\u001b[0m\u001b[0;34m\u001b[0m\u001b[0;34m\u001b[0m\u001b[0m\n\u001b[0m\u001b[1;32m    845\u001b[0m     \u001b[0;32mexcept\u001b[0m \u001b[0mValueError\u001b[0m\u001b[0;34m:\u001b[0m\u001b[0;34m\u001b[0m\u001b[0;34m\u001b[0m\u001b[0m\n\u001b[1;32m    846\u001b[0m         \u001b[0;32mimport\u001b[0m \u001b[0mtraceback\u001b[0m\u001b[0;34m\u001b[0m\u001b[0;34m\u001b[0m\u001b[0m\n",
      "\u001b[0;31mAssertionError\u001b[0m: \nNot equal to tolerance rtol=0.0001, atol=1e-08\n\nMismatched elements: 1 / 1 (100%)\nMax absolute difference: 0.73172867\nMax relative difference: 0.51994218\n x: array(2.139056)\n y: array(1.407327)"
     ]
    }
   ],
   "source": [
    "expected_loss = 1.407327\n",
    "\n",
    "RTOL = 1e-4\n",
    "ATOL = 1e-8\n",
    "\n",
    "np.testing.assert_allclose(loss, expected_loss, rtol= RTOL, atol= ATOL)\n"
   ]
  }
 ],
 "metadata": {
  "kernelspec": {
   "display_name": "Python 3",
   "language": "python",
   "name": "python3"
  },
  "language_info": {
   "codemirror_mode": {
    "name": "ipython",
    "version": 3
   },
   "file_extension": ".py",
   "mimetype": "text/x-python",
   "name": "python",
   "nbconvert_exporter": "python",
   "pygments_lexer": "ipython3",
   "version": "3.10.12"
  }
 },
 "nbformat": 4,
 "nbformat_minor": 2
}
