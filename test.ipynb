{
 "cells": [
  {
   "cell_type": "code",
   "execution_count": 2,
   "metadata": {},
   "outputs": [],
   "source": [
    "import numpy as np "
   ]
  },
  {
   "cell_type": "code",
   "execution_count": 56,
   "metadata": {},
   "outputs": [],
   "source": [
    "y = np.array([[0.],\n",
    "       [1.],\n",
    "       [1.]])\n",
    "\n",
    "\n",
    "MAX_ITERS = 2\n",
    "GAMMA = 0.1\n",
    "\n",
    "\n",
    "tx = np.array([[2.3, 3.2],\n",
    "       [1. , 0.1],\n",
    "       [1.4, 2.3]])\n",
    "\n",
    "initial_w = np.array([[0.409111], [0.843996]])"
   ]
  },
  {
   "cell_type": "code",
   "execution_count": 57,
   "metadata": {},
   "outputs": [
    {
     "data": {
      "text/plain": [
       "(0.9379238019887329,)"
      ]
     },
     "execution_count": 57,
     "metadata": {},
     "output_type": "execute_result"
    }
   ],
   "source": [
    "np.sqrt(np.sum(initial_w**2)), "
   ]
  },
  {
   "cell_type": "code",
   "execution_count": 93,
   "metadata": {},
   "outputs": [
    {
     "data": {
      "text/plain": [
       "(array([[0.409111],\n",
       "        [0.843996]]),\n",
       " 1.5833647530305026)"
      ]
     },
     "execution_count": 93,
     "metadata": {},
     "output_type": "execute_result"
    }
   ],
   "source": [
    "\n",
    "def compute_logistic_loss(y, tx, w, lambda_): \n",
    "\n",
    "    pred = np.dot(tx, w)\n",
    "    sigmoids = 1.0 / (1 + np.exp(-pred))\n",
    "    loss = -0.5 * np.mean(y * np.log(sigmoids) + (1 - y) * np.log(1 - sigmoids)) + (lambda_ ) * np.linalg.norm(initial_w) ** 2\n",
    "    return sigmoids, loss\n",
    "\n",
    "def reg_logistic_regression(y, tx, lambda_, initial_w, max_iters, gamma):\n",
    "    \"\"\"\n",
    "    Perform regularized logistic regression using gradient descent.\n",
    "    \n",
    "    Parameters:\n",
    "    y: np.array\n",
    "        The target values\n",
    "    tx: np.array\n",
    "        The data matrix (each row is a data point)\n",
    "    initial_w: np.array\n",
    "        Initial weights\n",
    "    max_iters: int\n",
    "        Maximum number of iterations for gradient descent\n",
    "    gamma: float\n",
    "        Learning rate\n",
    "    lambda_: float\n",
    "        Regularization strength for L2 penalty\n",
    "\n",
    "    Returns:\n",
    "    w: np.array\n",
    "        Optimized weights after training\n",
    "    \"\"\"\n",
    "    \n",
    "    w = initial_w\n",
    "    \n",
    "    sigmoids, loss = compute_logistic_loss(y, tx, w, lambda_)\n",
    "\n",
    "    \n",
    "    for iter in range(max_iters):\n",
    "\n",
    "        # compute the gradient\n",
    "        grad = tx.T.dot(sigmoids - y)/len(y) + 2 * lambda_ * w\n",
    "\n",
    "        # update w through the negative gradient direction\n",
    "        w = w - gamma * grad\n",
    "\n",
    "        sigmoids, loss = compute_logistic_loss(y, tx, w, lambda_)\n",
    "        \n",
    "    return w, loss\n",
    "\n",
    "reg_logistic_regression(y, tx, 1.0, initial_w,  0, GAMMA)"
   ]
  },
  {
   "cell_type": "code",
   "execution_count": 95,
   "metadata": {},
   "outputs": [
    {
     "data": {
      "text/plain": [
       "(array([[0.409111],\n",
       "        [0.843996]]),\n",
       " 1.4073273893870055)"
      ]
     },
     "execution_count": 95,
     "metadata": {},
     "output_type": "execute_result"
    }
   ],
   "source": [
    "\n",
    "def compute_logistic_loss(y, tx, w): \n",
    "\n",
    "    pred = np.dot(tx, w)\n",
    "    sigmoids = 1.0 / (1 + np.exp(-pred))\n",
    "    loss = -np.mean(y * np.log(sigmoids) + (1 - y) * np.log(1 - sigmoids))\n",
    "    return sigmoids, loss\n",
    "\n",
    "\n",
    "\n",
    "def logistic_regression(y, tx, initial_w, max_iters, gamma):\n",
    "    \"\"\"\n",
    "    Perform logistic regression using gradient descent.\n",
    "    \n",
    "    Parameters:\n",
    "    y: np.array\n",
    "        The target values\n",
    "    tx: np.array\n",
    "        The data matrix (each row is a data point)\n",
    "    initial_w: np.array\n",
    "        Initial weights\n",
    "    max_iters: int\n",
    "        Maximum number of iterations for gradient descent\n",
    "    gamma: float\n",
    "        Learning rate\n",
    "\n",
    "    Returns:\n",
    "    w: np.array\n",
    "        Optimized weights after training\n",
    "    \"\"\"\n",
    "    \n",
    "    w = initial_w\n",
    "\n",
    "    sigmoids, loss = compute_logistic_loss(y, tx, w)\n",
    "    \n",
    "    for iter in range(max_iters):\n",
    "        # compute the gradient\n",
    "\n",
    "        grad =  tx.T.dot(sigmoids - y)/len(tx)\n",
    "\n",
    "        # update w through the negative gradient direction\n",
    "        w = w - gamma * grad\n",
    "\n",
    "        sigmoids, loss = compute_logistic_loss(y, tx, w)\n",
    "        \n",
    "    return w, loss\n",
    "\n",
    "logistic_regression(y, tx, initial_w,  0, GAMMA)"
   ]
  }
 ],
 "metadata": {
  "kernelspec": {
   "display_name": "Python 3",
   "language": "python",
   "name": "python3"
  },
  "language_info": {
   "codemirror_mode": {
    "name": "ipython",
    "version": 3
   },
   "file_extension": ".py",
   "mimetype": "text/x-python",
   "name": "python",
   "nbconvert_exporter": "python",
   "pygments_lexer": "ipython3",
   "version": "3.10.12"
  }
 },
 "nbformat": 4,
 "nbformat_minor": 2
}
