{
 "cells": [
  {
   "cell_type": "code",
   "execution_count": 1,
   "metadata": {},
   "outputs": [],
   "source": [
    "import numpy as np \n",
    "from helpers import * \n",
    "from implementations import *\n",
    "from utilities import *\n",
    "import matplotlib.pyplot as plt"
   ]
  },
  {
   "cell_type": "code",
   "execution_count": 64,
   "metadata": {},
   "outputs": [],
   "source": [
    "# hyperparameter tuning with only a part of the dataset\n",
    "MAX_ROWS = 10000\n",
    "\n",
    "x_data = np.genfromtxt('data/dataset/x_train.csv', delimiter=\",\", skip_header=1, max_rows=MAX_ROWS)\n",
    "y_data = np.genfromtxt('data/dataset/y_train.csv', delimiter=\",\", skip_header=1, max_rows=MAX_ROWS)"
   ]
  },
  {
   "cell_type": "code",
   "execution_count": 43,
   "metadata": {},
   "outputs": [
    {
     "name": "stdout",
     "output_type": "stream",
     "text": [
      "nan -> 0 f1-score : 0.28935100837719596, accuracy 0.9131\n",
      "nan -> median f1-score :0.3909191143465812, accuracy 0.8744\n",
      "nan -> mean f1-score :0.26755627093500856, accuracy 0.9118\n"
     ]
    }
   ],
   "source": [
    "# choose which type of cleaning is the best\n",
    "\n",
    "x_train = clean_X_0(x_data)  # replace nan with zero add bias column\n",
    "y_train = clean_Y(y_data)\n",
    "\n",
    "accuracy, f1_score = k_fold_cross_validation(x_train, y_train, logistic_regression, k= 5,\n",
    "                                             model_params={'initial_w': np.random.rand(x_train.shape[1]),'max_iters': 5000, 'gamma':0.25})\n",
    "\n",
    "print(f'nan -> 0 f1-score : {f1_score}, accuracy {accuracy}')\n",
    "\n",
    "x_train = clean_X_median(x_data)  # replace nan with median add bias column\n",
    "\n",
    "accuracy, f1_score = k_fold_cross_validation(x_train, y_train, logistic_regression, k= 5,\n",
    "                                                model_params={'initial_w': np.random.rand(x_train.shape[1]),'max_iters': 5000, 'gamma':0.25})\n",
    "\n",
    "print(f'nan -> median f1-score :{f1_score}, accuracy {accuracy}')\n",
    "\n",
    "\n",
    "x_train = clean_X_mean(x_data)  # replace nan with mean add bias column\n",
    "\n",
    "accuracy, f1_score = k_fold_cross_validation(x_train, y_train, logistic_regression, k= 5,\n",
    "                                                model_params={'initial_w': np.random.rand(x_train.shape[1]), 'max_iters': 5000, 'gamma':0.25})\n",
    "\n",
    "print(f'nan -> mean f1-score :{f1_score}, accuracy {accuracy}')"
   ]
  },
  {
   "cell_type": "code",
   "execution_count": 45,
   "metadata": {},
   "outputs": [
    {
     "name": "stdout",
     "output_type": "stream",
     "text": [
      "without sparse column f1-score :0.3776743101772099, accuracy 0.8688\n",
      "without correlated column f1-score :0.37720079127937944, accuracy 0.8744\n",
      "with sparse columns f1-score :0.38214614915496914, accuracy 0.8720000000000001\n"
     ]
    }
   ],
   "source": [
    "\n",
    "# feature selection\n",
    "\n",
    "x_train = reduced_data(x_data, 0.9)\n",
    "x_train = clean_X_median(x_train)  # replace nan with zero add bias column\n",
    "y_train = clean_Y(y_data)\n",
    "\n",
    "accuracy, f1_score = k_fold_cross_validation(x_train, y_train, logistic_regression, k= 5,\n",
    "                                                model_params={'initial_w': np.random.rand(x_train.shape[1]), 'max_iters': 5000, 'gamma':0.25})\n",
    "\n",
    "print(f'without sparse column f1-score :{f1_score}, accuracy {accuracy}')\n",
    "\n",
    "\n",
    "x_train = drop_highly_correlated_features(x_data)\n",
    "x_train = clean_X_median(x_train)  # replace nan with zero add bias column\n",
    "y_train = clean_Y(y_data)\n",
    "\n",
    "accuracy, f1_score = k_fold_cross_validation(x_train, y_train, logistic_regression, k= 5,\n",
    "                                                model_params={'initial_w': np.random.rand(x_train.shape[1]), 'max_iters': 5000, 'gamma':0.25})\n",
    "\n",
    "print(f'without correlated column f1-score :{f1_score}, accuracy {accuracy}')\n",
    "\n",
    "\n",
    "x_train = clean_X_median(x_data)  # replace nan with zero add bias column\n",
    "y_train = clean_Y(y_data)\n",
    "\n",
    "accuracy, f1_score = k_fold_cross_validation(x_train, y_train, logistic_regression, k= 5,\n",
    "                                                model_params={'initial_w': np.random.rand(x_train.shape[1]), 'max_iters': 5000, 'gamma':0.25})\n",
    "\n",
    "print(f'with sparse columns f1-score :{f1_score}, accuracy {accuracy}')"
   ]
  },
  {
   "cell_type": "code",
   "execution_count": 50,
   "metadata": {},
   "outputs": [
    {
     "name": "stdout",
     "output_type": "stream",
     "text": [
      "with sparse columns f1-score :0.3776482711082799, accuracy 0.8695\n",
      "with sparse columns f1-score :0.29756588932865186, accuracy 0.8036999999999999\n"
     ]
    }
   ],
   "source": [
    "x_train = clean_X_median(normalize(x_data))  # replace nan with zero add bias column\n",
    "y_train = clean_Y(y_data)\n",
    "\n",
    "accuracy, f1_score = k_fold_cross_validation(x_train, y_train, logistic_regression, k= 5,\n",
    "                                                model_params={'initial_w': np.random.rand(x_train.shape[1]), 'max_iters': 5000, 'gamma':0.25})\n",
    "\n",
    "print(f'with sparse columns f1-score :{f1_score}, accuracy {accuracy}')\n",
    "\n",
    "\n",
    "accuracy, f1_score = k_fold_cross_validation(x_train, y_train, reg_logistic_regression_batch, k= 5,\n",
    "                                                model_params={'initial_w': np.random.rand(x_train.shape[1]),\n",
    "                                                            'max_iters': 20000, 'gamma':0.25, 'lambda_': 0, 'batch_size' : 500}, threshold=0.5)\n",
    "\n",
    "\n",
    "print(f'with sparse columns f1-score :{f1_score}, accuracy {accuracy}')"
   ]
  },
  {
   "cell_type": "code",
   "execution_count": 58,
   "metadata": {},
   "outputs": [
    {
     "name": "stderr",
     "output_type": "stream",
     "text": [
      "/home/stefano/Documents/EPFL/ML_course_projects/ML_project_1/implementations.py:136: RuntimeWarning: divide by zero encountered in log\n",
      "  loss = -np.mean(y * np.log(sigmoids) + (1 - y) * np.log(1 - sigmoids))\n",
      "/home/stefano/Documents/EPFL/ML_course_projects/ML_project_1/implementations.py:136: RuntimeWarning: invalid value encountered in multiply\n",
      "  loss = -np.mean(y * np.log(sigmoids) + (1 - y) * np.log(1 - sigmoids))\n"
     ]
    },
    {
     "name": "stdout",
     "output_type": "stream",
     "text": [
      " lambda= 0, gamma= 0.15, CV accuracy = 0.9110, f1_score = 0.2743\n",
      " lambda= 0.0001, gamma= 0.15, CV accuracy = 0.9130, f1_score = 0.2833\n",
      " lambda= 1e-05, gamma= 0.15, CV accuracy = 0.9134, f1_score = 0.2802\n"
     ]
    },
    {
     "ename": "KeyboardInterrupt",
     "evalue": "",
     "output_type": "error",
     "traceback": [
      "\u001b[0;31m---------------------------------------------------------------------------\u001b[0m",
      "\u001b[0;31mKeyboardInterrupt\u001b[0m                         Traceback (most recent call last)",
      "\u001b[0;32m/tmp/ipykernel_5959/3482168493.py\u001b[0m in \u001b[0;36m<module>\u001b[0;34m\u001b[0m\n\u001b[1;32m      6\u001b[0m \u001b[0;34m\u001b[0m\u001b[0m\n\u001b[1;32m      7\u001b[0m \u001b[0;34m\u001b[0m\u001b[0m\n\u001b[0;32m----> 8\u001b[0;31m best_param_lambda, best_param_gamma, best_param_threshold, best_batch_size = hyperparameter_tuning(x_train, y_train , \n\u001b[0m\u001b[1;32m      9\u001b[0m                                             \u001b[0mreg_logistic_regression\u001b[0m\u001b[0;34m,\u001b[0m \u001b[0mlambdas\u001b[0m\u001b[0;34m=\u001b[0m \u001b[0;34m[\u001b[0m\u001b[0;36m0\u001b[0m\u001b[0;34m,\u001b[0m \u001b[0;36m1e-4\u001b[0m\u001b[0;34m,\u001b[0m \u001b[0;36m1e-5\u001b[0m\u001b[0;34m]\u001b[0m\u001b[0;34m,\u001b[0m \u001b[0mgammas\u001b[0m\u001b[0;34m=\u001b[0m\u001b[0;34m[\u001b[0m\u001b[0;36m0.15\u001b[0m\u001b[0;34m,\u001b[0m \u001b[0;36m0.2\u001b[0m\u001b[0;34m,\u001b[0m \u001b[0;36m0.25\u001b[0m\u001b[0;34m,\u001b[0m \u001b[0;36m0.3\u001b[0m\u001b[0;34m,\u001b[0m \u001b[0;36m0.35\u001b[0m\u001b[0;34m]\u001b[0m\u001b[0;34m,\u001b[0m\u001b[0;34m\u001b[0m\u001b[0;34m\u001b[0m\u001b[0m\n\u001b[1;32m     10\u001b[0m                                             model_params={'initial_w': initial_w ,'max_iters': 5000})\n",
      "\u001b[0;32m/tmp/ipykernel_5959/25900103.py\u001b[0m in \u001b[0;36mhyperparameter_tuning\u001b[0;34m(X, y, model, lambdas, gammas, model_params, k)\u001b[0m\n\u001b[1;32m     26\u001b[0m             \u001b[0mmodel_params\u001b[0m\u001b[0;34m[\u001b[0m\u001b[0;34m'lambda_'\u001b[0m\u001b[0;34m]\u001b[0m \u001b[0;34m=\u001b[0m \u001b[0mlambda_\u001b[0m\u001b[0;34m\u001b[0m\u001b[0;34m\u001b[0m\u001b[0m\n\u001b[1;32m     27\u001b[0m             \u001b[0mmodel_params\u001b[0m\u001b[0;34m[\u001b[0m\u001b[0;34m'gamma'\u001b[0m\u001b[0;34m]\u001b[0m \u001b[0;34m=\u001b[0m \u001b[0mgamma\u001b[0m\u001b[0;34m\u001b[0m\u001b[0;34m\u001b[0m\u001b[0m\n\u001b[0;32m---> 28\u001b[0;31m             \u001b[0maccuracy\u001b[0m\u001b[0;34m,\u001b[0m \u001b[0mf1_score\u001b[0m \u001b[0;34m=\u001b[0m \u001b[0mk_fold_cross_validation\u001b[0m\u001b[0;34m(\u001b[0m\u001b[0mX\u001b[0m\u001b[0;34m,\u001b[0m \u001b[0my\u001b[0m\u001b[0;34m,\u001b[0m \u001b[0mmodel\u001b[0m\u001b[0;34m,\u001b[0m \u001b[0mk\u001b[0m\u001b[0;34m,\u001b[0m \u001b[0mmodel_params\u001b[0m\u001b[0;34m)\u001b[0m\u001b[0;34m\u001b[0m\u001b[0;34m\u001b[0m\u001b[0m\n\u001b[0m\u001b[1;32m     29\u001b[0m \u001b[0;34m\u001b[0m\u001b[0m\n\u001b[1;32m     30\u001b[0m             \u001b[0;32mif\u001b[0m \u001b[0mf1_score\u001b[0m \u001b[0;34m>\u001b[0m \u001b[0mbest_f1_score\u001b[0m \u001b[0;32mand\u001b[0m \u001b[0maccuracy\u001b[0m \u001b[0;34m>\u001b[0m \u001b[0mbest_accuracy\u001b[0m\u001b[0;34m:\u001b[0m\u001b[0;34m\u001b[0m\u001b[0;34m\u001b[0m\u001b[0m\n",
      "\u001b[0;32m/tmp/ipykernel_5959/1718240714.py\u001b[0m in \u001b[0;36mk_fold_cross_validation\u001b[0;34m(X, y, model, k, model_params, threshold)\u001b[0m\n\u001b[1;32m     29\u001b[0m \u001b[0;34m\u001b[0m\u001b[0m\n\u001b[1;32m     30\u001b[0m         \u001b[0;31m# Fit model and predict\u001b[0m\u001b[0;34m\u001b[0m\u001b[0;34m\u001b[0m\u001b[0m\n\u001b[0;32m---> 31\u001b[0;31m         \u001b[0mw\u001b[0m\u001b[0;34m,\u001b[0m \u001b[0mloss\u001b[0m \u001b[0;34m=\u001b[0m \u001b[0mmodel\u001b[0m\u001b[0;34m(\u001b[0m\u001b[0my_train\u001b[0m\u001b[0;34m,\u001b[0m \u001b[0mX_train\u001b[0m\u001b[0;34m,\u001b[0m \u001b[0;34m**\u001b[0m\u001b[0mmodel_params\u001b[0m\u001b[0;34m)\u001b[0m\u001b[0;34m\u001b[0m\u001b[0;34m\u001b[0m\u001b[0m\n\u001b[0m\u001b[1;32m     32\u001b[0m \u001b[0;34m\u001b[0m\u001b[0m\n\u001b[1;32m     33\u001b[0m         \u001b[0my_pred\u001b[0m \u001b[0;34m=\u001b[0m \u001b[0mpredict_logistic\u001b[0m\u001b[0;34m(\u001b[0m\u001b[0mX_test\u001b[0m\u001b[0;34m,\u001b[0m \u001b[0mw\u001b[0m\u001b[0;34m,\u001b[0m \u001b[0mthreshold\u001b[0m\u001b[0;34m)\u001b[0m\u001b[0;34m\u001b[0m\u001b[0;34m\u001b[0m\u001b[0m\n",
      "\u001b[0;32m~/Documents/EPFL/ML_course_projects/ML_project_1/implementations.py\u001b[0m in \u001b[0;36mreg_logistic_regression\u001b[0;34m(y, tx, lambda_, initial_w, max_iters, gamma)\u001b[0m\n\u001b[1;32m    198\u001b[0m \u001b[0;34m\u001b[0m\u001b[0m\n\u001b[1;32m    199\u001b[0m     \u001b[0;32mfor\u001b[0m \u001b[0miter\u001b[0m \u001b[0;32min\u001b[0m \u001b[0mrange\u001b[0m\u001b[0;34m(\u001b[0m\u001b[0mmax_iters\u001b[0m\u001b[0;34m)\u001b[0m\u001b[0;34m:\u001b[0m\u001b[0;34m\u001b[0m\u001b[0;34m\u001b[0m\u001b[0m\n\u001b[0;32m--> 200\u001b[0;31m         \u001b[0mgrad\u001b[0m \u001b[0;34m=\u001b[0m \u001b[0mtx\u001b[0m\u001b[0;34m.\u001b[0m\u001b[0mT\u001b[0m\u001b[0;34m.\u001b[0m\u001b[0mdot\u001b[0m\u001b[0;34m(\u001b[0m\u001b[0msigmoids\u001b[0m \u001b[0;34m-\u001b[0m \u001b[0my\u001b[0m\u001b[0;34m)\u001b[0m\u001b[0;34m/\u001b[0m\u001b[0mlen\u001b[0m\u001b[0;34m(\u001b[0m\u001b[0my\u001b[0m\u001b[0;34m)\u001b[0m \u001b[0;34m+\u001b[0m \u001b[0;36m2\u001b[0m \u001b[0;34m*\u001b[0m \u001b[0mlambda_\u001b[0m \u001b[0;34m*\u001b[0m \u001b[0mw\u001b[0m\u001b[0;34m\u001b[0m\u001b[0;34m\u001b[0m\u001b[0m\n\u001b[0m\u001b[1;32m    201\u001b[0m         \u001b[0mw\u001b[0m \u001b[0;34m=\u001b[0m \u001b[0mw\u001b[0m \u001b[0;34m-\u001b[0m \u001b[0mgamma\u001b[0m \u001b[0;34m*\u001b[0m \u001b[0mgrad\u001b[0m\u001b[0;34m\u001b[0m\u001b[0;34m\u001b[0m\u001b[0m\n\u001b[1;32m    202\u001b[0m         \u001b[0msigmoids\u001b[0m\u001b[0;34m,\u001b[0m \u001b[0mloss\u001b[0m \u001b[0;34m=\u001b[0m \u001b[0mcompute_logistic_loss\u001b[0m\u001b[0;34m(\u001b[0m\u001b[0my\u001b[0m\u001b[0;34m,\u001b[0m \u001b[0mtx\u001b[0m\u001b[0;34m,\u001b[0m \u001b[0mw\u001b[0m\u001b[0;34m)\u001b[0m\u001b[0;34m\u001b[0m\u001b[0;34m\u001b[0m\u001b[0m\n",
      "\u001b[0;31mKeyboardInterrupt\u001b[0m: "
     ]
    }
   ],
   "source": [
    "x_train = clean_X_mean(normalize(x_data))  \n",
    "y_train = clean_Y(y_data)\n",
    "\n",
    "initial_w = np.random.rand(x_train.shape[1])\n",
    "\n",
    "\n",
    "\n",
    "best_param_lambda, best_param_gamma, best_param_threshold, best_batch_size = hyperparameter_tuning(x_train, y_train , \n",
    "                                            reg_logistic_regression, lambdas= [0, 1e-4, 1e-5], gammas=[0.15, 0.2, 0.25, 0.3, 0.35], \n",
    "                                            model_params={'initial_w': initial_w ,'max_iters': 5000})\n",
    "\n",
    "\n",
    "best_param_lambda, best_param_gamma\n"
   ]
  },
  {
   "cell_type": "code",
   "execution_count": 135,
   "metadata": {},
   "outputs": [
    {
     "name": "stdout",
     "output_type": "stream",
     "text": [
      "0 0.917\n"
     ]
    }
   ],
   "source": [
    "# finding best threshold make it more likely to predict \n",
    "\n",
    "accuracies = []\n",
    "f1_scores = []\n",
    "\n",
    "x_train, x_test, y_train, y_test = split_data(x_data, y_data, 0.8)\n",
    "x_train = (clean_X_mean(x_train))\n",
    "y_train = clean_Y(y_train)\n",
    "x_test = (clean_X_mean(x_test))\n",
    "y_test = clean_Y(y_test)\n",
    "\n",
    "initial_w  = np.random.rand(x_train.shape[1])\n",
    "\n",
    "w, loss = reg_logistic_regression(y_train.reshape(-1, 1), x_train, initial_w=initial_w.reshape(-1, 1), lambda_=0, max_iters=5000, gamma=0.25) \n",
    "\n",
    "\n",
    "y_pred = predict_logistic(x_test, w, 0.1)\n",
    "\n",
    "print (compute_f1(y_test, y_pred), np.mean(y_pred == y_test))\n",
    "# accuracy = np.mean(y_pred == y_test)\n",
    "# f1 = compute_f1(y_test, y_pred)\n",
    "# accuracies.append(accuracy)\n",
    "# f1_scores.append(f1)\n",
    "\n",
    "# for t in np.arange(0.1, 0.6, 0.01):\n",
    "#     y_pred = predict_logistic(x_test, w, t)\n",
    "    \n",
    "#     accuracy = np.mean(y_pred == y_test)\n",
    "#     f1 = compute_f1(y_test, y_pred)\n",
    "#     accuracies.append(accuracy)\n",
    "#     f1_scores.append(f1)\n"
   ]
  },
  {
   "cell_type": "code",
   "execution_count": 123,
   "metadata": {},
   "outputs": [
    {
     "name": "stdout",
     "output_type": "stream",
     "text": [
      "3374 706.0 8000 0.65175\n",
      "3160 706.0 8000 0.676\n"
     ]
    }
   ],
   "source": [
    "\n",
    "for t in np.arange(0.5, 0.51, 0.01):\n",
    "    y_pred = predict_logistic(x_train, w, t)\n",
    "    \n",
    "    accuracy = np.mean(y_pred == y_train)\n",
    "    print(y_pred.sum(), y_train.sum(), len(y_train), accuracy)\n",
    "    f1 = compute_f1(y_train, y_pred)\n",
    "    accuracies.append(accuracy)\n",
    "    f1_scores.append(f1)"
   ]
  },
  {
   "cell_type": "code",
   "execution_count": 125,
   "metadata": {},
   "outputs": [],
   "source": [
    "for t in np.arange(0.1, 0.6, 0.01):\n",
    "    y_pred = predict_logistic(x_test, w, t)\n",
    "    \n",
    "    accuracy = np.mean(y_pred == y_test)\n",
    "    f1 = compute_f1(y_test, y_pred)\n",
    "    accuracies.append(accuracy)\n",
    "    f1_scores.append(f1)"
   ]
  },
  {
   "cell_type": "code",
   "execution_count": 129,
   "metadata": {},
   "outputs": [
    {
     "data": {
      "text/plain": [
       "(0.29756588932865186, 0.917)"
      ]
     },
     "execution_count": 129,
     "metadata": {},
     "output_type": "execute_result"
    }
   ],
   "source": [
    "f1_score, accuracy"
   ]
  },
  {
   "cell_type": "code",
   "execution_count": 13,
   "metadata": {},
   "outputs": [
    {
     "name": "stderr",
     "output_type": "stream",
     "text": [
      "/home/stefano/Documents/EPFL/ML_course_projects/ML_project_1/implementations.py:136: RuntimeWarning: divide by zero encountered in log\n",
      "  loss = -np.mean(y * np.log(sigmoids) + (1 - y) * np.log(1 - sigmoids))\n",
      "/home/stefano/Documents/EPFL/ML_course_projects/ML_project_1/implementations.py:136: RuntimeWarning: invalid value encountered in multiply\n",
      "  loss = -np.mean(y * np.log(sigmoids) + (1 - y) * np.log(1 - sigmoids))\n",
      "/tmp/ipykernel_13652/1308123902.py:26: RuntimeWarning: invalid value encountered in double_scalars\n",
      "  if len(losses) > 2 and np.abs(losses[-2] - losses[-1]) < 1e-3 and not half:\n",
      "/tmp/ipykernel_13652/1308123902.py:29: RuntimeWarning: invalid value encountered in double_scalars\n",
      "  elif len(losses) > 2 and np.abs(losses[-2] - losses[-1]) < 1e-5:\n"
     ]
    }
   ],
   "source": [
    "# load dataset for final training and prediction on test set\n",
    "\n",
    "x_data = np.genfromtxt('data/dataset/x_trabin.csv', delimiter=\",\", skip_header=1)\n",
    "y_data = np.genfromtxt('data/dataset/y_train.csv', delimiter=\",\", skip_header=1)\n",
    "x_test = np.genfromtxt('data/dataset/x_test.csv', delimiter=\",\", skip_header=1)\n",
    "\n",
    "\n",
    "x_test_clean = clean_X_median(x_test)\n",
    "y_data = clean_Y(y_data)\n",
    "x_data = clean_X_median(x_data)\n",
    "\n",
    "\n",
    "initial_w = np.random.rand(x_data.shape[1])\n",
    "\n",
    "# train with optimal hyperparameters\n",
    "w, loss = reg_logistic_regression_batch(y_data.reshape(-1, 1), x_data,  initial_w.reshape(-1, 1), best_param_lambda , 10000, best_param_gamma, best_batch_size) \n",
    "\n",
    "\n",
    "# predict with optimal threshold\n",
    "y_pred = (sigmoid(x_test_clean @ w) >= best_param_threshold).flatten() \n",
    "y_pred = np.where(y_pred, 1, -1)\n",
    "\n",
    "create_csv_submission(x_test[:, 0], y_pred, 'prediction.csv')"
   ]
  },
  {
   "cell_type": "code",
   "execution_count": null,
   "metadata": {},
   "outputs": [],
   "source": [
    "# other things to try \n",
    "# removing features/outliers and retraining with them"
   ]
  },
  {
   "cell_type": "code",
   "execution_count": null,
   "metadata": {},
   "outputs": [],
   "source": []
  },
  {
   "cell_type": "code",
   "execution_count": null,
   "metadata": {},
   "outputs": [],
   "source": []
  },
  {
   "cell_type": "code",
   "execution_count": 10,
   "metadata": {},
   "outputs": [],
   "source": [
    "x_data = np.genfromtxt('data/dataset/x_train.csv', delimiter=\",\", skip_header=1)"
   ]
  },
  {
   "cell_type": "code",
   "execution_count": 20,
   "metadata": {},
   "outputs": [
    {
     "name": "stdout",
     "output_type": "stream",
     "text": [
      "Original Data:\n",
      "(328135, 322)\n",
      "\n",
      "Cleaned Data:\n",
      "(328135, 322)\n"
     ]
    }
   ],
   "source": [
    "def remove_rows_by_indices(matrix, indices_to_remove):\n",
    "    # Create a mask to select rows that are not in the list of indices to remove\n",
    "    mask = np.ones(matrix.shape[0], dtype=bool)\n",
    "    mask[indices_to_remove] = False\n",
    "\n",
    "    # Apply the mask to the matrix to remove specified rows\n",
    "    cleaned_matrix = matrix[mask]\n",
    "\n",
    "    return cleaned_matrix\n",
    "\n",
    "def remove_outliers_from_matrix(x_data, max_deviations):\n",
    "    # Calculate the mean and standard deviation for the entire matrix\n",
    "    mean = np.mean(x_data, axis=0)\n",
    "    #print(\"mean = \", mean)\n",
    "    std = np.std(x_data, axis=0)\n",
    "    #print(\"std = \",std)\n",
    "    \n",
    "    # Calculate the absolute deviation from the mean for the entire matrix\n",
    "    distance_from_mean = []\n",
    "    for i in range(x_data.shape[0]):\n",
    "        distance_from_mean.append( np.abs(x_data[i] - mean))\n",
    "    #print(\"distance = \", distance_from_mean)\n",
    "\n",
    "    distance_from_mean = np.array(distance_from_mean)\n",
    "\n",
    "    #print(\"max_deviations * std = \", max_deviations * std)\n",
    "\n",
    "    # Create a mask to identify outliers based on the absolute deviation\n",
    "    outlier_sample = distance_from_mean > max_deviations * std\n",
    "\n",
    "    #print(\"outlier samples = \\n\", outlier_sample)\n",
    "    count = np.zeros(x_data.shape[0])\n",
    "    samples_to_drop = []\n",
    "    for i in range(x_data.shape[0]):\n",
    "        count[i] = np.count_nonzero(outlier_sample[i])\n",
    "        if count[i] > 0.5 * x_data.shape[1]:\n",
    "            samples_to_drop.append(i)\n",
    "    #print(\"count = \", count)\n",
    "    #print(\"to drop = \", samples_to_drop)\n",
    "\n",
    "    x_data_cleaned = remove_rows_by_indices(x_data, samples_to_drop)\n",
    "    \n",
    "\n",
    "    return x_data_cleaned\n",
    "\n",
    "\n",
    "# Example usage:\n",
    "# Create a sample data matrix with outliers\n",
    "data_matrix = np.array([[1, 1, 1],\n",
    "                        [4, 5, 6],\n",
    "                        [7, 80000, 900000],\n",
    "                        [20000, 10000, 10000000],\n",
    "                        [-20000, -10000, -10000000]])  # Outlier in each column \n",
    "\n",
    "\n",
    "\n",
    "# Remove outliers from the matrix using the function\n",
    "cleaned_data_x = remove_outliers_from_matrix(x_data,0.05)\n",
    "\n",
    "print(\"Original Data:\")\n",
    "print(x_data.shape)\n",
    "print(\"\\nCleaned Data:\")\n",
    "print(cleaned_data_x.shape)"
   ]
  }
 ],
 "metadata": {
  "kernelspec": {
   "display_name": "Python 3",
   "language": "python",
   "name": "python3"
  },
  "language_info": {
   "codemirror_mode": {
    "name": "ipython",
    "version": 3
   },
   "file_extension": ".py",
   "mimetype": "text/x-python",
   "name": "python",
   "nbconvert_exporter": "python",
   "pygments_lexer": "ipython3",
   "version": "3.10.12"
  }
 },
 "nbformat": 4,
 "nbformat_minor": 2
}
