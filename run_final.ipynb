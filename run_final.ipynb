{
 "cells": [
  {
   "cell_type": "code",
   "execution_count": 2,
   "metadata": {},
   "outputs": [],
   "source": [
    "import numpy as np \n",
    "from helpers import * \n",
    "from implementations import *\n",
    "from utilities import *\n",
    "import matplotlib.pyplot as plt"
   ]
  },
  {
   "cell_type": "code",
   "execution_count": 4,
   "metadata": {},
   "outputs": [],
   "source": [
    "# hyperparameter tuning with only a part of the dataset\n",
    "MAX_ROWS = 10000\n",
    "\n",
    "x_data = np.genfromtxt('data/dataset/x_train.csv', delimiter=\",\", skip_header=1,  max_rows=MAX_ROWS)\n",
    "y_data = np.genfromtxt('data/dataset/y_train.csv', delimiter=\",\", skip_header=1,  max_rows=MAX_ROWS)"
   ]
  },
  {
   "cell_type": "code",
   "execution_count": 5,
   "metadata": {},
   "outputs": [],
   "source": [
    "\n",
    "# x_data = reduced_data(x_data)  # remove sparse features\n",
    "\n",
    "x_data = clean_X_0(x_data)  # replace nan with zero add bias column\n",
    "y_data = clean_Y(y_data)\n",
    "\n",
    "x_train, x_test, y_train, y_test = split_data(x_data, y_data, 0.8)"
   ]
  },
  {
   "cell_type": "code",
   "execution_count": 3,
   "metadata": {},
   "outputs": [
    {
     "name": "stderr",
     "output_type": "stream",
     "text": [
      "/home/stefano/Documents/EPFL/ML_course_projects/ML_project_1/implementations.py:136: RuntimeWarning: divide by zero encountered in log\n",
      "  loss = -np.mean(y * np.log(sigmoids) + (1 - y) * np.log(1 - sigmoids))\n",
      "/home/stefano/Documents/EPFL/ML_course_projects/ML_project_1/implementations.py:136: RuntimeWarning: invalid value encountered in multiply\n",
      "  loss = -np.mean(y * np.log(sigmoids) + (1 - y) * np.log(1 - sigmoids))\n"
     ]
    },
    {
     "name": "stdout",
     "output_type": "stream",
     "text": [
      "unbalanced data, accuracy=0.5895 f1-score=0.2502283105022831\n",
      "balanced data, accuracy=0.6015 f1-score=0.2708142726440988\n"
     ]
    }
   ],
   "source": [
    "# comparison balanced and unbalanced data\n",
    "\n",
    "N, D = x_train.shape\n",
    "initial_w = np.random.rand(D)\n",
    "\n",
    "w, loss = logistic_regression(y_train.reshape(-1, 1), x_train, initial_w.reshape(-1, 1), 10000, 0.01)\n",
    "pred = predict_logistic(x_test, w)\n",
    "print(f'unbalanced data, accuracy={np.sum(pred == y_test) / len(y_test)} f1-score={compute_f1(y_test, pred)}')\n",
    "\n",
    "initial_w = np.random.rand(D)\n",
    "x_data, y_data = balance_dataset(x_train, y_train)  # create balaced dataset with oversampling\n",
    "\n",
    "w, loss = logistic_regression(y_data.reshape(-1, 1), x_data, initial_w.reshape(-1, 1), 10000, 0.01)\n",
    "pred = predict_logistic(x_test, w)\n",
    "print(f'balanced data, accuracy={np.sum(pred == y_test) / len(y_test)} f1-score={compute_f1(y_test, pred)}')\n",
    "\n",
    "\n",
    "# with maxrow = 100k unbalanced is better than balanced\n"
   ]
  },
  {
   "cell_type": "code",
   "execution_count": 6,
   "metadata": {},
   "outputs": [
    {
     "name": "stderr",
     "output_type": "stream",
     "text": [
      "/home/stefano/Documents/EPFL/ML_course_projects/ML_project_1/implementations.py:136: RuntimeWarning: divide by zero encountered in log\n",
      "  loss = -np.mean(y * np.log(sigmoids) + (1 - y) * np.log(1 - sigmoids))\n",
      "/home/stefano/Documents/EPFL/ML_course_projects/ML_project_1/implementations.py:136: RuntimeWarning: invalid value encountered in multiply\n",
      "  loss = -np.mean(y * np.log(sigmoids) + (1 - y) * np.log(1 - sigmoids))\n"
     ]
    },
    {
     "name": "stdout",
     "output_type": "stream",
     "text": [
      " lambda= 0 gamma= 0.01 , CV accuracy = 0.9074, f1_score = 0.2911\n",
      " lambda= 0.0001 gamma= 0.01 , CV accuracy = 0.9058, f1_score = 0.2656\n",
      " lambda= 1e-05 gamma= 0.01 , CV accuracy = 0.9059, f1_score = 0.2732\n",
      " lambda= 0 gamma= 0.05 , CV accuracy = 0.9099, f1_score = 0.2877\n",
      " lambda= 0.0001 gamma= 0.05 , CV accuracy = 0.9094, f1_score = 0.2983\n",
      " lambda= 1e-05 gamma= 0.05 , CV accuracy = 0.9101, f1_score = 0.2832\n",
      " lambda= 0 gamma= 0.1 , CV accuracy = 0.9096, f1_score = 0.3013\n",
      " lambda= 0.0001 gamma= 0.1 , CV accuracy = 0.9081, f1_score = 0.2759\n",
      " lambda= 1e-05 gamma= 0.1 , CV accuracy = 0.9101, f1_score = 0.2978\n",
      " lambda= 0 gamma= 0.15 , CV accuracy = 0.9078, f1_score = 0.2952\n",
      " lambda= 0.0001 gamma= 0.15 , CV accuracy = 0.9105, f1_score = 0.2873\n",
      " lambda= 1e-05 gamma= 0.15 , CV accuracy = 0.9075, f1_score = 0.2757\n",
      " lambda= 0 gamma= 0.2 , CV accuracy = 0.9085, f1_score = 0.2938\n",
      " lambda= 0.0001 gamma= 0.2 , CV accuracy = 0.9080, f1_score = 0.2920\n",
      " lambda= 1e-05 gamma= 0.2 , CV accuracy = 0.9112, f1_score = 0.3046\n",
      " lambda= 0 gamma= 0.25 , CV accuracy = 0.9092, f1_score = 0.3032\n",
      " lambda= 0.0001 gamma= 0.25 , CV accuracy = 0.9133, f1_score = 0.3174\n",
      " lambda= 1e-05 gamma= 0.25 , CV accuracy = 0.9105, f1_score = 0.3181\n",
      " lambda= 0 gamma= 0.3 , CV accuracy = 0.9114, f1_score = 0.2985\n",
      " lambda= 0.0001 gamma= 0.3 , CV accuracy = 0.9102, f1_score = 0.2851\n",
      " lambda= 1e-05 gamma= 0.3 , CV accuracy = 0.9083, f1_score = 0.2911\n"
     ]
    },
    {
     "data": {
      "text/plain": [
       "(0.0001, 0.25)"
      ]
     },
     "execution_count": 6,
     "metadata": {},
     "output_type": "execute_result"
    }
   ],
   "source": [
    "# hyperparamter tuning\n",
    "\n",
    "initial_w = np.random.rand(x_data.shape[1])\n",
    "\n",
    "best_lambda, best_gamma = hyperparameter_tuning(x_data, y_data , reg_logistic_regression,lambdas= [0, 1e-4, 1e-5], \n",
    "                            gammas=[0.01, 0.05, 0.1, 0.15, 0.2, 0.25, 0.3], model_params={'initial_w': initial_w ,'max_iters': 10000})"
   ]
  },
  {
   "cell_type": "code",
   "execution_count": 7,
   "metadata": {},
   "outputs": [
    {
     "name": "stdout",
     "output_type": "stream",
     "text": [
      "[[0.2        0.34841629]\n",
      " [0.21       0.3364486 ]\n",
      " [0.22       0.33415233]\n",
      " [0.23       0.33924051]\n",
      " [0.24       0.33246753]\n",
      " [0.25       0.33952255]\n",
      " [0.26       0.34501348]\n",
      " [0.27       0.34903047]\n",
      " [0.28       0.35492958]\n",
      " [0.29       0.36416185]\n",
      " [0.3        0.35882353]\n",
      " [0.31       0.35435435]\n",
      " [0.32       0.35474006]\n",
      " [0.33       0.35625   ]\n",
      " [0.34       0.34920635]\n",
      " [0.35       0.33663366]\n",
      " [0.36       0.33670034]\n",
      " [0.37       0.33220339]\n",
      " [0.38       0.33217993]\n",
      " [0.39       0.33215548]\n",
      " [0.4        0.33451957]\n",
      " [0.41       0.3381295 ]\n",
      " [0.42       0.33454545]\n",
      " [0.43       0.33948339]\n",
      " [0.44       0.33962264]\n",
      " [0.45       0.32061069]\n",
      " [0.46       0.31496063]\n",
      " [0.47       0.31020408]\n",
      " [0.48       0.31147541]\n",
      " [0.49       0.29411765]\n",
      " [0.5        0.27966102]\n",
      " [0.51       0.26495726]\n",
      " [0.52       0.26839827]\n",
      " [0.53       0.26315789]\n",
      " [0.54       0.26548673]\n",
      " [0.55       0.25112108]\n",
      " [0.56       0.23636364]\n",
      " [0.57       0.2293578 ]\n",
      " [0.58       0.22119816]\n",
      " [0.59       0.20465116]]\n"
     ]
    },
    {
     "data": {
      "text/plain": [
       "[<matplotlib.lines.Line2D at 0x7f8b98dc30d0>]"
      ]
     },
     "execution_count": 7,
     "metadata": {},
     "output_type": "execute_result"
    },
    {
     "data": {
      "image/png": "[encoded data removed]",
      "text/plain": [
       "<Figure size 432x288 with 1 Axes>"
      ]
     },
     "metadata": {
      "needs_background": "light"
     },
     "output_type": "display_data"
    }
   ],
   "source": [
    "# choosing the best threshold, especially relevant here as dataset is unbalanced\n",
    "\n",
    "initial_w = np.random.rand(x_train.shape[1])\n",
    "# train with best hyperparameter found above\n",
    "w, loss = reg_logistic_regression(y_train.reshape(-1, 1), x_train, 1e-05, initial_w.reshape(-1, 1), 10000, 0.25)\n",
    "\n",
    "f1_scores = []\n",
    "for threshold in np.arange(0.1, 0.6, 0.01).tolist(): \n",
    "    y_pred = (sigmoid(x_test @ w) >= threshold).flatten() \n",
    "    f1_scores.append([threshold, compute_f1(y_test, y_pred)])\n",
    "\n",
    "best_threshold = max(f1_scores, key=lambda x: x[1])\n",
    "f1_scores = np.array(f1_scores)\n",
    "plt.plot(f1_scores[:, 0], f1_scores[:, 1])"
   ]
  },
  {
   "cell_type": "code",
   "execution_count": null,
   "metadata": {},
   "outputs": [],
   "source": []
  },
  {
   "cell_type": "code",
   "execution_count": 8,
   "metadata": {},
   "outputs": [
    {
     "name": "stderr",
     "output_type": "stream",
     "text": [
      "/home/stefano/Documents/EPFL/ML_course_projects/ML_project_1/implementations.py:136: RuntimeWarning: divide by zero encountered in log\n",
      "  loss = -np.mean(y * np.log(sigmoids) + (1 - y) * np.log(1 - sigmoids))\n",
      "/home/stefano/Documents/EPFL/ML_course_projects/ML_project_1/implementations.py:136: RuntimeWarning: invalid value encountered in multiply\n",
      "  loss = -np.mean(y * np.log(sigmoids) + (1 - y) * np.log(1 - sigmoids))\n"
     ]
    }
   ],
   "source": [
    "\n",
    "# load dataset for final training\n",
    "x_data = np.genfromtxt('data/dataset/x_train.csv', delimiter=\",\", skip_header=1)\n",
    "y_data = np.genfromtxt('data/dataset/y_train.csv', delimiter=\",\", skip_header=1)\n",
    "x_test = np.genfromtxt('data/dataset/x_test.csv', delimiter=\",\", skip_header=1)\n",
    "\n",
    "# clean data\n",
    "x_test_clean = clean_X_0(x_test)\n",
    "y_data = clean_Y(y_data)\n",
    "x_data = clean_X_0(x_data)\n",
    "\n",
    "initial_w = np.random.rand(x_data.shape[1])\n",
    "\n",
    "# train with optimal hyperparameters\n",
    "w, loss = reg_logistic_regression(y_data.reshape(-1, 1), x_data, 1e-5, initial_w.reshape(-1, 1), 10000, 0.25)  # replace with best lambda, gamma"
   ]
  },
  {
   "cell_type": "code",
   "execution_count": 16,
   "metadata": {},
   "outputs": [
    {
     "data": {
      "text/plain": [
       "13.548304519149015"
      ]
     },
     "execution_count": 16,
     "metadata": {},
     "output_type": "execute_result"
    }
   ],
   "source": [
    "# predict with optimal threshold\n",
    "y_pred = (sigmoid(x_test_clean @ w) >= 0.2).flatten()  # replace best threshold\n",
    "y_pred = np.where(y_pred, 1, -1)\n",
    "\n",
    "create_csv_submission(x_test[:, 0], y_pred, 'prediction.csv')\n",
    "\n",
    "((y_pred == 1).sum() / len(y_pred)) * 100"
   ]
  }
 ],
 "metadata": {
  "kernelspec": {
   "display_name": "Python 3",
   "language": "python",
   "name": "python3"
  },
  "language_info": {
   "codemirror_mode": {
    "name": "ipython",
    "version": 3
   },
   "file_extension": ".py",
   "mimetype": "text/x-python",
   "name": "python",
   "nbconvert_exporter": "python",
   "pygments_lexer": "ipython3",
   "version": "3.10.12"
  }
 },
 "nbformat": 4,
 "nbformat_minor": 2
}
