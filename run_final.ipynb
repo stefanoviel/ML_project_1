{
 "cells": [
  {
   "cell_type": "code",
   "execution_count": 7,
   "metadata": {},
   "outputs": [],
   "source": [
    "import numpy as np \n",
    "from helpers import * \n",
    "from implementations import *\n",
    "from utilities import *\n",
    "import matplotlib.pyplot as plt"
   ]
  },
  {
   "cell_type": "code",
   "execution_count": 141,
   "metadata": {},
   "outputs": [],
   "source": [
    "# hyperparameter tuning with only a part of the dataset\n",
    "MAX_ROWS = 20000\n",
    "\n",
    "x_data = np.genfromtxt('data/dataset/x_train.csv', delimiter=\",\", skip_header=1)#, max_rows=MAX_ROWS)\n",
    "y_data = np.genfromtxt('data/dataset/y_train.csv', delimiter=\",\", skip_header=1)#, max_rows=MAX_ROWS)"
   ]
  },
  {
   "cell_type": "code",
   "execution_count": 142,
   "metadata": {},
   "outputs": [],
   "source": [
    "x_data = clean_X_0(x_data)  # replace nan with zero add bias column\n",
    "y_data = clean_Y(y_data)\n",
    "\n",
    "x_train, x_test, y_train, y_test = split_data(x_data, y_data, 0.8)"
   ]
  },
  {
   "cell_type": "code",
   "execution_count": 3,
   "metadata": {},
   "outputs": [
    {
     "name": "stderr",
     "output_type": "stream",
     "text": [
      "/home/stefano/Documents/EPFL/ML_course_projects/ML_project_1/implementations.py:136: RuntimeWarning: divide by zero encountered in log\n",
      "  loss = -np.mean(y * np.log(sigmoids) + (1 - y) * np.log(1 - sigmoids))\n",
      "/home/stefano/Documents/EPFL/ML_course_projects/ML_project_1/implementations.py:136: RuntimeWarning: invalid value encountered in multiply\n",
      "  loss = -np.mean(y * np.log(sigmoids) + (1 - y) * np.log(1 - sigmoids))\n"
     ]
    },
    {
     "name": "stdout",
     "output_type": "stream",
     "text": [
      "unbalanced data, accuracy=0.5895 f1-score=0.2502283105022831\n",
      "balanced data, accuracy=0.6015 f1-score=0.2708142726440988\n"
     ]
    }
   ],
   "source": [
    "# comparison balanced and unbalanced data\n",
    "\n",
    "N, D = x_train.shape\n",
    "initial_w = np.random.rand(D)\n",
    "\n",
    "w, loss = logistic_regression(y_train.reshape(-1, 1), x_train, initial_w.reshape(-1, 1), 10000, 0.01)\n",
    "pred = predict_logistic(x_test, w)\n",
    "print(f'unbalanced data, accuracy={np.sum(pred == y_test) / len(y_test)} f1-score={compute_f1(y_test, pred)}')\n",
    "\n",
    "initial_w = np.random.rand(D)\n",
    "x_data, y_data = balance_dataset(x_train, y_train)  # create balaced dataset with oversampling\n",
    "\n",
    "w, loss = logistic_regression(y_data.reshape(-1, 1), x_data, initial_w.reshape(-1, 1), 10000, 0.01)\n",
    "pred = predict_logistic(x_test, w)\n",
    "print(f'balanced data, accuracy={np.sum(pred == y_test) / len(y_test)} f1-score={compute_f1(y_test, pred)}')\n",
    "\n",
    "\n",
    "# with maxrow = 100k unbalanced is better than balanced\n"
   ]
  },
  {
   "cell_type": "code",
   "execution_count": 6,
   "metadata": {},
   "outputs": [
    {
     "name": "stderr",
     "output_type": "stream",
     "text": [
      "/home/stefano/Documents/EPFL/ML_course_projects/ML_project_1/implementations.py:136: RuntimeWarning: divide by zero encountered in log\n",
      "  loss = -np.mean(y * np.log(sigmoids) + (1 - y) * np.log(1 - sigmoids))\n",
      "/home/stefano/Documents/EPFL/ML_course_projects/ML_project_1/implementations.py:136: RuntimeWarning: invalid value encountered in multiply\n",
      "  loss = -np.mean(y * np.log(sigmoids) + (1 - y) * np.log(1 - sigmoids))\n"
     ]
    },
    {
     "name": "stdout",
     "output_type": "stream",
     "text": [
      " lambda= 0 gamma= 0.01 , CV accuracy = 0.9074, f1_score = 0.2911\n",
      " lambda= 0.0001 gamma= 0.01 , CV accuracy = 0.9058, f1_score = 0.2656\n",
      " lambda= 1e-05 gamma= 0.01 , CV accuracy = 0.9059, f1_score = 0.2732\n",
      " lambda= 0 gamma= 0.05 , CV accuracy = 0.9099, f1_score = 0.2877\n",
      " lambda= 0.0001 gamma= 0.05 , CV accuracy = 0.9094, f1_score = 0.2983\n",
      " lambda= 1e-05 gamma= 0.05 , CV accuracy = 0.9101, f1_score = 0.2832\n",
      " lambda= 0 gamma= 0.1 , CV accuracy = 0.9096, f1_score = 0.3013\n",
      " lambda= 0.0001 gamma= 0.1 , CV accuracy = 0.9081, f1_score = 0.2759\n",
      " lambda= 1e-05 gamma= 0.1 , CV accuracy = 0.9101, f1_score = 0.2978\n",
      " lambda= 0 gamma= 0.15 , CV accuracy = 0.9078, f1_score = 0.2952\n",
      " lambda= 0.0001 gamma= 0.15 , CV accuracy = 0.9105, f1_score = 0.2873\n",
      " lambda= 1e-05 gamma= 0.15 , CV accuracy = 0.9075, f1_score = 0.2757\n",
      " lambda= 0 gamma= 0.2 , CV accuracy = 0.9085, f1_score = 0.2938\n",
      " lambda= 0.0001 gamma= 0.2 , CV accuracy = 0.9080, f1_score = 0.2920\n",
      " lambda= 1e-05 gamma= 0.2 , CV accuracy = 0.9112, f1_score = 0.3046\n",
      " lambda= 0 gamma= 0.25 , CV accuracy = 0.9092, f1_score = 0.3032\n",
      " lambda= 0.0001 gamma= 0.25 , CV accuracy = 0.9133, f1_score = 0.3174\n",
      " lambda= 1e-05 gamma= 0.25 , CV accuracy = 0.9105, f1_score = 0.3181\n",
      " lambda= 0 gamma= 0.3 , CV accuracy = 0.9114, f1_score = 0.2985\n",
      " lambda= 0.0001 gamma= 0.3 , CV accuracy = 0.9102, f1_score = 0.2851\n",
      " lambda= 1e-05 gamma= 0.3 , CV accuracy = 0.9083, f1_score = 0.2911\n"
     ]
    },
    {
     "data": {
      "text/plain": [
       "(0.0001, 0.25)"
      ]
     },
     "execution_count": 6,
     "metadata": {},
     "output_type": "execute_result"
    }
   ],
   "source": [
    "# hyperparamter tuning\n",
    "initial_w = np.random.rand(x_data.shape[1])\n",
    "\n",
    "best_lambda, best_gamma = hyperparameter_tuning(x_data, y_data , reg_logistic_regression,lambdas= [0, 1e-4, 1e-5], \n",
    "                            gammas=[0.01, 0.05, 0.1, 0.15, 0.2, 0.25, 0.3], model_params={'initial_w': initial_w ,'max_iters': 10000})"
   ]
  },
  {
   "cell_type": "code",
   "execution_count": 7,
   "metadata": {},
   "outputs": [
    {
     "name": "stdout",
     "output_type": "stream",
     "text": [
      "[[0.2        0.34841629]\n",
      " [0.21       0.3364486 ]\n",
      " [0.22       0.33415233]\n",
      " [0.23       0.33924051]\n",
      " [0.24       0.33246753]\n",
      " [0.25       0.33952255]\n",
      " [0.26       0.34501348]\n",
      " [0.27       0.34903047]\n",
      " [0.28       0.35492958]\n",
      " [0.29       0.36416185]\n",
      " [0.3        0.35882353]\n",
      " [0.31       0.35435435]\n",
      " [0.32       0.35474006]\n",
      " [0.33       0.35625   ]\n",
      " [0.34       0.34920635]\n",
      " [0.35       0.33663366]\n",
      " [0.36       0.33670034]\n",
      " [0.37       0.33220339]\n",
      " [0.38       0.33217993]\n",
      " [0.39       0.33215548]\n",
      " [0.4        0.33451957]\n",
      " [0.41       0.3381295 ]\n",
      " [0.42       0.33454545]\n",
      " [0.43       0.33948339]\n",
      " [0.44       0.33962264]\n",
      " [0.45       0.32061069]\n",
      " [0.46       0.31496063]\n",
      " [0.47       0.31020408]\n",
      " [0.48       0.31147541]\n",
      " [0.49       0.29411765]\n",
      " [0.5        0.27966102]\n",
      " [0.51       0.26495726]\n",
      " [0.52       0.26839827]\n",
      " [0.53       0.26315789]\n",
      " [0.54       0.26548673]\n",
      " [0.55       0.25112108]\n",
      " [0.56       0.23636364]\n",
      " [0.57       0.2293578 ]\n",
      " [0.58       0.22119816]\n",
      " [0.59       0.20465116]]\n"
     ]
    },
    {
     "data": {
      "text/plain": [
       "[<matplotlib.lines.Line2D at 0x7f8b98dc30d0>]"
      ]
     },
     "execution_count": 7,
     "metadata": {},
     "output_type": "execute_result"
    },
    {
     "data": {
      "image/png": "[encoded data removed]",
      "text/plain": [
       "<Figure size 432x288 with 1 Axes>"
      ]
     },
     "metadata": {
      "needs_background": "light"
     },
     "output_type": "display_data"
    }
   ],
   "source": [
    "# choosing the best threshold, especially relevant here as dataset is unbalanced\n",
    "\n",
    "initial_w = np.random.rand(x_train.shape[1])\n",
    "# train with best hyperparameter found above\n",
    "w, loss = reg_logistic_regression(y_train.reshape(-1, 1), x_train, 1e-05, initial_w.reshape(-1, 1), 10000, 0.25)\n",
    "\n",
    "f1_scores = []\n",
    "for threshold in np.arange(0.1, 0.6, 0.01).tolist(): \n",
    "    y_pred = (sigmoid(x_test @ w) >= threshold).flatten() \n",
    "    f1_scores.append([threshold, compute_f1(y_test, y_pred)])\n",
    "\n",
    "best_threshold = max(f1_scores, key=lambda x: x[1])\n",
    "f1_scores = np.array(f1_scores)\n",
    "plt.plot(f1_scores[:, 0], f1_scores[:, 1])"
   ]
  },
  {
   "cell_type": "code",
   "execution_count": 3,
   "metadata": {},
   "outputs": [
    {
     "name": "stderr",
     "output_type": "stream",
     "text": [
      "/home/stefano/Documents/EPFL/ML_course_projects/ML_project_1/implementations.py:136: RuntimeWarning: divide by zero encountered in log\n",
      "  loss = -np.mean(y * np.log(sigmoids) + (1 - y) * np.log(1 - sigmoids))\n",
      "/home/stefano/Documents/EPFL/ML_course_projects/ML_project_1/implementations.py:136: RuntimeWarning: invalid value encountered in multiply\n",
      "  loss = -np.mean(y * np.log(sigmoids) + (1 - y) * np.log(1 - sigmoids))\n"
     ]
    }
   ],
   "source": [
    "\n",
    "# load dataset for final training\n",
    "x_data = np.genfromtxt('data/dataset/x_train.csv', delimiter=\",\", skip_header=1)\n",
    "y_data = np.genfromtxt('data/dataset/y_train.csv', delimiter=\",\", skip_header=1)\n",
    "x_test = np.genfromtxt('data/dataset/x_test.csv', delimiter=\",\", skip_header=1)\n",
    "\n",
    "# clean data\n",
    "x_test_clean = clean_X_median(x_test)\n",
    "y_data = clean_Y(y_data)\n",
    "x_data = clean_X_median(x_data)\n",
    "\n",
    "initial_w = np.random.rand(x_data.shape[1])\n",
    "\n",
    "# train with optimal hyperparameters\n",
    "w, loss = reg_logistic_regression(y_data.reshape(-1, 1), x_data, 1e-5, initial_w.reshape(-1, 1), 10000, 0.25)  # replace with best lambda, gamma"
   ]
  },
  {
   "cell_type": "code",
   "execution_count": 5,
   "metadata": {},
   "outputs": [
    {
     "data": {
      "text/plain": [
       "42.276853875058286"
      ]
     },
     "execution_count": 5,
     "metadata": {},
     "output_type": "execute_result"
    }
   ],
   "source": [
    "# predict with optimal threshold\n",
    "y_pred = (sigmoid(x_test_clean @ w) >= 0.5).flatten()  # replace best threshold\n",
    "y_pred = np.where(y_pred, 1, -1)\n",
    "\n",
    "create_csv_submission(x_test[:, 0], y_pred, 'prediction.csv')\n",
    "\n",
    "((y_pred == 1).sum() / len(y_pred)) * 100"
   ]
  },
  {
   "cell_type": "code",
   "execution_count": 76,
   "metadata": {},
   "outputs": [],
   "source": [
    "def reg_logistic_regression_batch(y, tx, initial_w, lambda_, max_iters, gamma):\n",
    "    batch_size = 1000\n",
    "    half = False\n",
    "    w = initial_w\n",
    "    losses = []\n",
    "    for _ in range(max_iters):\n",
    "        random_indices = np.random.choice(len(y), size=batch_size, replace=False)\n",
    "        batch_tx = tx[random_indices]\n",
    "        batch_y = y[random_indices]\n",
    "        sigmoids, loss = compute_logistic_loss(batch_y, batch_tx, w)\n",
    "        grad = batch_tx.T.dot(sigmoids - batch_y) / batch_size + 2 * lambda_ * w\n",
    "        w = w - gamma * grad #weighted_grad / len(y)  # check if dividing actually makes sense\n",
    "        losses.append(loss)\n",
    "        if len(losses) > 2 and np.abs(losses[-2] - losses[-1]) < 1e-3 and not half: \n",
    "            half = True\n",
    "            gamma = gamma/2\n",
    "        elif len(losses) > 2 and np.abs(losses[-2] - losses[-1]) < 1e-5: \n",
    "            break\n",
    "    return w, losses"
   ]
  },
  {
   "cell_type": "code",
   "execution_count": 143,
   "metadata": {},
   "outputs": [
    {
     "name": "stderr",
     "output_type": "stream",
     "text": [
      "/home/stefano/Documents/EPFL/ML_course_projects/ML_project_1/implementations.py:136: RuntimeWarning: divide by zero encountered in log\n",
      "  loss = -np.mean(y * np.log(sigmoids) + (1 - y) * np.log(1 - sigmoids))\n",
      "/home/stefano/Documents/EPFL/ML_course_projects/ML_project_1/implementations.py:136: RuntimeWarning: invalid value encountered in multiply\n",
      "  loss = -np.mean(y * np.log(sigmoids) + (1 - y) * np.log(1 - sigmoids))\n",
      "/tmp/ipykernel_4899/1594625279.py:14: RuntimeWarning: invalid value encountered in double_scalars\n",
      "  if len(losses) > 2 and np.abs(losses[-2] - losses[-1]) < 1e-3 and not half:\n",
      "/tmp/ipykernel_4899/1594625279.py:17: RuntimeWarning: invalid value encountered in double_scalars\n",
      "  elif len(losses) > 2 and np.abs(losses[-2] - losses[-1]) < 3e-5:\n"
     ]
    }
   ],
   "source": [
    "w, losses = reg_logistic_regression_batch(y_train, x_train, np.random.rand(x_train.shape[1]), 0, 10000, 0.25)"
   ]
  },
  {
   "cell_type": "code",
   "execution_count": 152,
   "metadata": {},
   "outputs": [
    {
     "name": "stderr",
     "output_type": "stream",
     "text": [
      "/home/stefano/Documents/EPFL/ML_course_projects/ML_project_1/implementations.py:136: RuntimeWarning: divide by zero encountered in log\n",
      "  loss = -np.mean(y * np.log(sigmoids) + (1 - y) * np.log(1 - sigmoids))\n",
      "/home/stefano/Documents/EPFL/ML_course_projects/ML_project_1/implementations.py:136: RuntimeWarning: invalid value encountered in multiply\n",
      "  loss = -np.mean(y * np.log(sigmoids) + (1 - y) * np.log(1 - sigmoids))\n",
      "/tmp/ipykernel_4899/1594625279.py:14: RuntimeWarning: invalid value encountered in double_scalars\n",
      "  if len(losses) > 2 and np.abs(losses[-2] - losses[-1]) < 1e-3 and not half:\n",
      "/tmp/ipykernel_4899/1594625279.py:17: RuntimeWarning: invalid value encountered in double_scalars\n",
      "  elif len(losses) > 2 and np.abs(losses[-2] - losses[-1]) < 3e-5:\n"
     ]
    }
   ],
   "source": [
    "w, losses = reg_logistic_regression_batch(cleaned_data_y, cleaned_data_x, np.random.rand(x_train.shape[1]), 1e-5, 10000, 0.2)"
   ]
  },
  {
   "cell_type": "code",
   "execution_count": 147,
   "metadata": {},
   "outputs": [
    {
     "name": "stdout",
     "output_type": "stream",
     "text": [
      "f1-score : 0.40833508735003154, accuracy 0.8715010590153442\n"
     ]
    },
    {
     "data": {
      "image/png": "[encoded data removed]",
      "text/plain": [
       "<Figure size 432x288 with 1 Axes>"
      ]
     },
     "metadata": {
      "needs_background": "light"
     },
     "output_type": "display_data"
    }
   ],
   "source": [
    "def predict_logistic(X, w, t): \n",
    "    return (sigmoid(X @ w) >= t).flatten()\n",
    "\n",
    "y_pred = predict_logistic(x_test, w, 0.2)\n",
    "\n",
    "print(f'f1-score : {compute_f1(y_test, y_pred)}, accuracy {(y_test == y_pred).sum() / len(y_pred)}')\n",
    "plt.plot(losses)\n",
    "plt.show()"
   ]
  },
  {
   "cell_type": "code",
   "execution_count": 149,
   "metadata": {},
   "outputs": [
    {
     "name": "stderr",
     "output_type": "stream",
     "text": [
      "/home/stefano/Documents/EPFL/ML_course_projects/ML_project_1/implementations.py:136: RuntimeWarning: divide by zero encountered in log\n",
      "  loss = -np.mean(y * np.log(sigmoids) + (1 - y) * np.log(1 - sigmoids))\n",
      "/home/stefano/Documents/EPFL/ML_course_projects/ML_project_1/implementations.py:136: RuntimeWarning: invalid value encountered in multiply\n",
      "  loss = -np.mean(y * np.log(sigmoids) + (1 - y) * np.log(1 - sigmoids))\n",
      "/tmp/ipykernel_4899/1594625279.py:14: RuntimeWarning: invalid value encountered in double_scalars\n",
      "  if len(losses) > 2 and np.abs(losses[-2] - losses[-1]) < 1e-3 and not half:\n",
      "/tmp/ipykernel_4899/1594625279.py:17: RuntimeWarning: invalid value encountered in double_scalars\n",
      "  elif len(losses) > 2 and np.abs(losses[-2] - losses[-1]) < 3e-5:\n"
     ]
    }
   ],
   "source": [
    "w, losses = reg_logistic_regression_batch(y_data, x_data, np.random.rand(x_train.shape[1]), 0, 10000, 0.25)\n",
    "\n",
    "x_test = np.genfromtxt('data/dataset/x_test.csv', delimiter=\",\", skip_header=1)\n",
    "\n",
    "x_test_clean = clean_X_0(x_test)"
   ]
  },
  {
   "cell_type": "code",
   "execution_count": 153,
   "metadata": {},
   "outputs": [
    {
     "data": {
      "text/plain": [
       "13.201802905493743"
      ]
     },
     "execution_count": 153,
     "metadata": {},
     "output_type": "execute_result"
    }
   ],
   "source": [
    "y_pred = (sigmoid(x_test_clean @ w) >= 0.2).flatten()\n",
    "y_pred = np.where(y_pred, 1, -1)\n",
    "\n",
    "create_csv_submission(x_test[:, 0], y_pred, 'prediction.csv')\n",
    "\n",
    "((y_pred == 1).sum() / len(y_pred)) * 100"
   ]
  },
  {
   "cell_type": "code",
   "execution_count": 139,
   "metadata": {},
   "outputs": [
    {
     "name": "stderr",
     "output_type": "stream",
     "text": [
      "/tmp/ipykernel_4899/1594625279.py:14: RuntimeWarning: invalid value encountered in double_scalars\n",
      "  if len(losses) > 2 and np.abs(losses[-2] - losses[-1]) < 1e-3 and not half:\n",
      "/tmp/ipykernel_4899/1594625279.py:17: RuntimeWarning: invalid value encountered in double_scalars\n",
      "  elif len(losses) > 2 and np.abs(losses[-2] - losses[-1]) < 3e-5:\n"
     ]
    },
    {
     "name": "stdout",
     "output_type": "stream",
     "text": [
      " lambda= 0, gamma= 0.1, threshold = 0.1 CV accuracy = 0.7925, f1_score = 0.3533\n",
      " lambda= 0, gamma= 0.1, threshold = 0.15 CV accuracy = 0.8239, f1_score = 0.3566\n",
      " lambda= 0, gamma= 0.1, threshold = 0.2 CV accuracy = 0.8647, f1_score = 0.3805\n",
      " lambda= 0, gamma= 0.1, threshold = 0.25 CV accuracy = 0.8714, f1_score = 0.3479\n",
      " lambda= 0, gamma= 0.1, threshold = 0.3 CV accuracy = 0.8760, f1_score = 0.3368\n",
      " lambda= 0, gamma= 0.1, threshold = 0.35 CV accuracy = 0.8940, f1_score = 0.3228\n",
      " lambda= 0, gamma= 0.1, threshold = 0.4 CV accuracy = 0.8884, f1_score = 0.2955\n",
      " lambda= 0.0001, gamma= 0.1, threshold = 0.1 CV accuracy = 0.7927, f1_score = 0.3555\n",
      " lambda= 0.0001, gamma= 0.1, threshold = 0.15 CV accuracy = 0.8376, f1_score = 0.3772\n",
      " lambda= 0.0001, gamma= 0.1, threshold = 0.2 CV accuracy = 0.8572, f1_score = 0.3684\n",
      " lambda= 0.0001, gamma= 0.1, threshold = 0.25 CV accuracy = 0.8740, f1_score = 0.3498\n",
      " lambda= 0.0001, gamma= 0.1, threshold = 0.3 CV accuracy = 0.8831, f1_score = 0.3379\n",
      " lambda= 0.0001, gamma= 0.1, threshold = 0.35 CV accuracy = 0.9032, f1_score = 0.3424\n",
      " lambda= 0.0001, gamma= 0.1, threshold = 0.4 CV accuracy = 0.9052, f1_score = 0.3102\n",
      " lambda= 1e-05, gamma= 0.1, threshold = 0.1 CV accuracy = 0.7878, f1_score = 0.3485\n",
      " lambda= 1e-05, gamma= 0.1, threshold = 0.15 CV accuracy = 0.8277, f1_score = 0.3541\n",
      " lambda= 1e-05, gamma= 0.1, threshold = 0.2 CV accuracy = 0.8598, f1_score = 0.3662\n",
      " lambda= 1e-05, gamma= 0.1, threshold = 0.25 CV accuracy = 0.8752, f1_score = 0.3587\n",
      " lambda= 1e-05, gamma= 0.1, threshold = 0.3 CV accuracy = 0.8812, f1_score = 0.3365\n",
      " lambda= 1e-05, gamma= 0.1, threshold = 0.35 CV accuracy = 0.8931, f1_score = 0.3262\n",
      " lambda= 1e-05, gamma= 0.1, threshold = 0.4 CV accuracy = 0.9039, f1_score = 0.2935\n",
      " lambda= 0, gamma= 0.15, threshold = 0.1 CV accuracy = 0.7972, f1_score = 0.3652\n",
      " lambda= 0, gamma= 0.15, threshold = 0.15 CV accuracy = 0.8355, f1_score = 0.3730\n",
      " lambda= 0, gamma= 0.15, threshold = 0.2 CV accuracy = 0.8629, f1_score = 0.3768\n",
      " lambda= 0, gamma= 0.15, threshold = 0.25 CV accuracy = 0.8770, f1_score = 0.3650\n",
      " lambda= 0, gamma= 0.15, threshold = 0.3 CV accuracy = 0.8942, f1_score = 0.3578\n",
      " lambda= 0, gamma= 0.15, threshold = 0.35 CV accuracy = 0.8966, f1_score = 0.3181\n",
      " lambda= 0, gamma= 0.15, threshold = 0.4 CV accuracy = 0.9051, f1_score = 0.3142\n",
      " lambda= 0.0001, gamma= 0.15, threshold = 0.1 CV accuracy = 0.7895, f1_score = 0.3607\n",
      " lambda= 0.0001, gamma= 0.15, threshold = 0.15 CV accuracy = 0.8358, f1_score = 0.3749\n",
      " lambda= 0.0001, gamma= 0.15, threshold = 0.2 CV accuracy = 0.8632, f1_score = 0.3736\n",
      " lambda= 0.0001, gamma= 0.15, threshold = 0.25 CV accuracy = 0.8561, f1_score = 0.3283\n",
      " lambda= 0.0001, gamma= 0.15, threshold = 0.3 CV accuracy = 0.8919, f1_score = 0.3639\n",
      " lambda= 0.0001, gamma= 0.15, threshold = 0.35 CV accuracy = 0.9008, f1_score = 0.3349\n",
      " lambda= 0.0001, gamma= 0.15, threshold = 0.4 CV accuracy = 0.9087, f1_score = 0.3178\n",
      " lambda= 1e-05, gamma= 0.15, threshold = 0.1 CV accuracy = 0.7927, f1_score = 0.3654\n",
      " lambda= 1e-05, gamma= 0.15, threshold = 0.15 CV accuracy = 0.8374, f1_score = 0.3769\n",
      " lambda= 1e-05, gamma= 0.15, threshold = 0.2 CV accuracy = 0.8563, f1_score = 0.3696\n",
      " lambda= 1e-05, gamma= 0.15, threshold = 0.25 CV accuracy = 0.8821, f1_score = 0.3733\n",
      " lambda= 1e-05, gamma= 0.15, threshold = 0.3 CV accuracy = 0.8864, f1_score = 0.3437\n",
      " lambda= 1e-05, gamma= 0.15, threshold = 0.35 CV accuracy = 0.9018, f1_score = 0.3418\n",
      " lambda= 1e-05, gamma= 0.15, threshold = 0.4 CV accuracy = 0.9069, f1_score = 0.3109\n",
      " lambda= 0, gamma= 0.2, threshold = 0.1 CV accuracy = 0.7915, f1_score = 0.3735\n",
      " lambda= 0, gamma= 0.2, threshold = 0.15 CV accuracy = 0.8290, f1_score = 0.3721\n",
      " lambda= 0, gamma= 0.2, threshold = 0.2 CV accuracy = 0.8638, f1_score = 0.3771\n",
      " lambda= 0, gamma= 0.2, threshold = 0.25 CV accuracy = 0.8780, f1_score = 0.3630\n",
      " lambda= 0, gamma= 0.2, threshold = 0.3 CV accuracy = 0.8934, f1_score = 0.3613\n",
      " lambda= 0, gamma= 0.2, threshold = 0.35 CV accuracy = 0.9014, f1_score = 0.3473\n",
      " lambda= 0, gamma= 0.2, threshold = 0.4 CV accuracy = 0.9008, f1_score = 0.3009\n",
      " lambda= 0.0001, gamma= 0.2, threshold = 0.1 CV accuracy = 0.7910, f1_score = 0.3637\n",
      " lambda= 0.0001, gamma= 0.2, threshold = 0.15 CV accuracy = 0.8356, f1_score = 0.3747\n",
      " lambda= 0.0001, gamma= 0.2, threshold = 0.2 CV accuracy = 0.8646, f1_score = 0.3845\n",
      " lambda= 0.0001, gamma= 0.2, threshold = 0.25 CV accuracy = 0.8800, f1_score = 0.3635\n",
      " lambda= 0.0001, gamma= 0.2, threshold = 0.3 CV accuracy = 0.8949, f1_score = 0.3650\n",
      " lambda= 0.0001, gamma= 0.2, threshold = 0.35 CV accuracy = 0.8957, f1_score = 0.3253\n",
      " lambda= 0.0001, gamma= 0.2, threshold = 0.4 CV accuracy = 0.9087, f1_score = 0.3096\n",
      " lambda= 1e-05, gamma= 0.2, threshold = 0.1 CV accuracy = 0.7914, f1_score = 0.3696\n",
      " lambda= 1e-05, gamma= 0.2, threshold = 0.15 CV accuracy = 0.8378, f1_score = 0.3869\n",
      " lambda= 1e-05, gamma= 0.2, threshold = 0.2 CV accuracy = 0.8635, f1_score = 0.3807\n",
      " lambda= 1e-05, gamma= 0.2, threshold = 0.25 CV accuracy = 0.8776, f1_score = 0.3683\n",
      " lambda= 1e-05, gamma= 0.2, threshold = 0.3 CV accuracy = 0.8832, f1_score = 0.3368\n",
      " lambda= 1e-05, gamma= 0.2, threshold = 0.35 CV accuracy = 0.9032, f1_score = 0.3465\n",
      " lambda= 1e-05, gamma= 0.2, threshold = 0.4 CV accuracy = 0.9014, f1_score = 0.3068\n",
      " lambda= 0, gamma= 0.25, threshold = 0.1 CV accuracy = 0.7894, f1_score = 0.3624\n",
      " lambda= 0, gamma= 0.25, threshold = 0.15 CV accuracy = 0.8384, f1_score = 0.3815\n",
      " lambda= 0, gamma= 0.25, threshold = 0.2 CV accuracy = 0.8604, f1_score = 0.3782\n",
      " lambda= 0, gamma= 0.25, threshold = 0.25 CV accuracy = 0.8854, f1_score = 0.3921\n",
      " lambda= 0, gamma= 0.25, threshold = 0.3 CV accuracy = 0.8873, f1_score = 0.3481\n",
      " lambda= 0, gamma= 0.25, threshold = 0.35 CV accuracy = 0.8992, f1_score = 0.3322\n",
      " lambda= 0, gamma= 0.25, threshold = 0.4 CV accuracy = 0.9057, f1_score = 0.3101\n",
      " lambda= 0.0001, gamma= 0.25, threshold = 0.1 CV accuracy = 0.7905, f1_score = 0.3718\n",
      " lambda= 0.0001, gamma= 0.25, threshold = 0.15 CV accuracy = 0.8311, f1_score = 0.3698\n",
      " lambda= 0.0001, gamma= 0.25, threshold = 0.2 CV accuracy = 0.8627, f1_score = 0.3804\n",
      " lambda= 0.0001, gamma= 0.25, threshold = 0.25 CV accuracy = 0.8808, f1_score = 0.3785\n",
      " lambda= 0.0001, gamma= 0.25, threshold = 0.3 CV accuracy = 0.8865, f1_score = 0.3450\n",
      " lambda= 0.0001, gamma= 0.25, threshold = 0.35 CV accuracy = 0.8989, f1_score = 0.3360\n",
      " lambda= 0.0001, gamma= 0.25, threshold = 0.4 CV accuracy = 0.9072, f1_score = 0.3228\n",
      " lambda= 1e-05, gamma= 0.25, threshold = 0.1 CV accuracy = 0.7936, f1_score = 0.3736\n",
      " lambda= 1e-05, gamma= 0.25, threshold = 0.15 CV accuracy = 0.8382, f1_score = 0.3942\n",
      " lambda= 1e-05, gamma= 0.25, threshold = 0.2 CV accuracy = 0.8637, f1_score = 0.3804\n",
      " lambda= 1e-05, gamma= 0.25, threshold = 0.25 CV accuracy = 0.8812, f1_score = 0.3838\n",
      " lambda= 1e-05, gamma= 0.25, threshold = 0.3 CV accuracy = 0.8923, f1_score = 0.3553\n",
      " lambda= 1e-05, gamma= 0.25, threshold = 0.35 CV accuracy = 0.9037, f1_score = 0.3397\n",
      " lambda= 1e-05, gamma= 0.25, threshold = 0.4 CV accuracy = 0.9035, f1_score = 0.3097\n",
      " lambda= 0, gamma= 0.3, threshold = 0.1 CV accuracy = 0.7912, f1_score = 0.3604\n",
      " lambda= 0, gamma= 0.3, threshold = 0.15 CV accuracy = 0.8361, f1_score = 0.3776\n",
      " lambda= 0, gamma= 0.3, threshold = 0.2 CV accuracy = 0.8665, f1_score = 0.3994\n",
      " lambda= 0, gamma= 0.3, threshold = 0.25 CV accuracy = 0.8816, f1_score = 0.3803\n",
      " lambda= 0, gamma= 0.3, threshold = 0.3 CV accuracy = 0.8931, f1_score = 0.3524\n",
      " lambda= 0, gamma= 0.3, threshold = 0.35 CV accuracy = 0.8983, f1_score = 0.3375\n",
      " lambda= 0, gamma= 0.3, threshold = 0.4 CV accuracy = 0.9082, f1_score = 0.3286\n",
      " lambda= 0.0001, gamma= 0.3, threshold = 0.1 CV accuracy = 0.7915, f1_score = 0.3802\n",
      " lambda= 0.0001, gamma= 0.3, threshold = 0.15 CV accuracy = 0.8351, f1_score = 0.3719\n",
      " lambda= 0.0001, gamma= 0.3, threshold = 0.2 CV accuracy = 0.8660, f1_score = 0.3870\n",
      " lambda= 0.0001, gamma= 0.3, threshold = 0.25 CV accuracy = 0.8793, f1_score = 0.3710\n",
      " lambda= 0.0001, gamma= 0.3, threshold = 0.3 CV accuracy = 0.8940, f1_score = 0.3607\n",
      " lambda= 0.0001, gamma= 0.3, threshold = 0.35 CV accuracy = 0.9022, f1_score = 0.3413\n",
      " lambda= 0.0001, gamma= 0.3, threshold = 0.4 CV accuracy = 0.9014, f1_score = 0.3019\n",
      " lambda= 1e-05, gamma= 0.3, threshold = 0.1 CV accuracy = 0.7925, f1_score = 0.3694\n",
      " lambda= 1e-05, gamma= 0.3, threshold = 0.15 CV accuracy = 0.8379, f1_score = 0.3849\n",
      " lambda= 1e-05, gamma= 0.3, threshold = 0.2 CV accuracy = 0.8675, f1_score = 0.3931\n",
      " lambda= 1e-05, gamma= 0.3, threshold = 0.25 CV accuracy = 0.8836, f1_score = 0.3803\n",
      " lambda= 1e-05, gamma= 0.3, threshold = 0.3 CV accuracy = 0.8939, f1_score = 0.3660\n",
      " lambda= 1e-05, gamma= 0.3, threshold = 0.35 CV accuracy = 0.9026, f1_score = 0.3449\n",
      " lambda= 1e-05, gamma= 0.3, threshold = 0.4 CV accuracy = 0.9085, f1_score = 0.3172\n"
     ]
    }
   ],
   "source": [
    "initial_w = np.random.rand(x_data.shape[1])\n",
    "\n",
    "best_lambda, best_gamma, best_threshold = hyperparameter_tuning(x_data, y_data , reg_logistic_regression_batch,lambdas= [0, 1e-4, 1e-5], \n",
    "                                            gammas=[0.1, 0.15, 0.2, 0.25, 0.3], thresholds=[0.1, 0.15, 0.2, 0.25, 0.3, 0.35, 0.4],\n",
    "                                            model_params={'initial_w': initial_w ,'max_iters': 10000})\n",
    "\n",
    "# best"
   ]
  },
  {
   "cell_type": "code",
   "execution_count": 140,
   "metadata": {},
   "outputs": [
    {
     "data": {
      "text/plain": [
       "(0, 0.25, 0.25)"
      ]
     },
     "execution_count": 140,
     "metadata": {},
     "output_type": "execute_result"
    }
   ],
   "source": [
    "best_lambda, best_gamma, best_threshold"
   ]
  },
  {
   "cell_type": "code",
   "execution_count": 138,
   "metadata": {},
   "outputs": [],
   "source": [
    "\n",
    "def hyperparameter_tuning(X, y, model, lambdas, gammas, thresholds, model_params,  k=5):\n",
    "    \"\"\"\n",
    "    Tune hyperparameter using k-fold cross-validation.\n",
    "\n",
    "    Parameters:\n",
    "    - X: features\n",
    "    - y: targets\n",
    "    - model_class: a class of the model that accepts the hyperparameter in its constructor\n",
    "    - param_name: name of the hyperparameter to be tuned\n",
    "    - param_values: list of values for the hyperparameter\n",
    "    - k: number of folds for cross-validation\n",
    "\n",
    "    Returns:\n",
    "    - best_param_value: the value of the hyperparameter that gives the best cross-validation accuracy\n",
    "    \"\"\"\n",
    "    best_accuracy = 0\n",
    "    best_f1_score = 0\n",
    "    best_param_lambda = None\n",
    "    best_param_gamma = None\n",
    "    best_param_threshold = None\n",
    "    \n",
    "    for gamma in gammas: \n",
    "        for lambda_ in lambdas: \n",
    "            for threshold in thresholds: \n",
    "                \n",
    "                model_params['lambda_'] = lambda_\n",
    "                model_params['gamma'] = gamma\n",
    "                accuracy, f1_score = k_fold_cross_validation(X, y, model, k, model_params, threshold)\n",
    "                \n",
    "                if f1_score > best_f1_score and accuracy > best_accuracy:\n",
    "                    best_accuracy = accuracy\n",
    "                    best_f1_score = f1_score\n",
    "                    best_param_lambda = lambda_\n",
    "                    best_param_gamma = gamma\n",
    "                    best_param_threshold = threshold\n",
    "                    \n",
    "                print(f\" lambda= {lambda_}, gamma= {gamma}, threshold = {threshold} CV accuracy = {accuracy:.4f}, f1_score = {f1_score:.4f}\")\n",
    "        \n",
    "    return best_param_lambda, best_param_gamma, best_param_threshold\n"
   ]
  },
  {
   "cell_type": "code",
   "execution_count": 151,
   "metadata": {},
   "outputs": [
    {
     "name": "stdout",
     "output_type": "stream",
     "text": [
      "Original Data:\n",
      "(328135, 322)\n",
      "\n",
      "Cleaned Data:\n",
      "(326910, 322)\n"
     ]
    }
   ],
   "source": [
    "def remove_rows_by_indices(matrix, indices_to_remove):\n",
    "    # Create a mask to select rows that are not in the list of indices to remove\n",
    "    mask = np.ones(matrix.shape[0], dtype=bool)\n",
    "    mask[indices_to_remove] = False\n",
    "\n",
    "    # Apply the mask to the matrix to remove specified rows\n",
    "    cleaned_matrix = matrix[mask]\n",
    "\n",
    "    return cleaned_matrix\n",
    "\n",
    "def remove_outliers_from_matrix(x_data, y_data, max_deviations):\n",
    "    # Calculate the mean and standard deviation for the entire matrix\n",
    "    mean = np.mean(x_data, axis=0)\n",
    "    #print(\"mean = \", mean)\n",
    "    std = np.std(x_data, axis=0)\n",
    "    #print(\"std = \",std)\n",
    "    \n",
    "    # Calculate the absolute deviation from the mean for the entire matrix\n",
    "    distance_from_mean = []\n",
    "    for i in range(x_data.shape[0]):\n",
    "        distance_from_mean.append( np.abs(x_data[i] - mean))\n",
    "    #print(\"distance = \", distance_from_mean)\n",
    "\n",
    "    distance_from_mean = np.array(distance_from_mean)\n",
    "\n",
    "    #print(\"max_deviations * std = \", max_deviations * std)\n",
    "\n",
    "    # Create a mask to identify outliers based on the absolute deviation\n",
    "    outlier_sample = distance_from_mean > max_deviations * std\n",
    "\n",
    "    #print(\"outlier samples = \\n\", outlier_sample)\n",
    "    count = np.zeros(x_data.shape[0])\n",
    "    samples_to_drop = []\n",
    "    for i in range(x_data.shape[0]):\n",
    "        count[i] = np.count_nonzero(outlier_sample[i])\n",
    "        if count[i] > 0.6 * x_data.shape[1]:\n",
    "            samples_to_drop.append(i)\n",
    "    #print(\"count = \", count)\n",
    "    #print(\"to drop = \", samples_to_drop)\n",
    "\n",
    "    x_data_cleaned = remove_rows_by_indices(x_data, samples_to_drop)\n",
    "    y_data_cleaned = remove_rows_by_indices(y_data, samples_to_drop)\n",
    "    \n",
    "    return x_data_cleaned, y_data_cleaned\n",
    "\n",
    "\n",
    "# Example usage:\n",
    "# Create a sample data matrix with outliers\n",
    "data_matrix = np.array([[1, 1, 1],\n",
    "                        [4, 5, 6],\n",
    "                        [7, 80000, 900000],\n",
    "                        [20000, 10000, 10000000],\n",
    "                        [-20000, -10000, -10000000]])  # Outlier in each column \n",
    "\n",
    "# Remove outliers from the matrix using the function\n",
    "cleaned_data_x, cleaned_data_y = remove_outliers_from_matrix(x_data,y_data,0.28)\n",
    "\n",
    "print(\"Original Data:\")\n",
    "print(x_data.shape)\n",
    "print(\"\\nCleaned Data:\")\n",
    "print(cleaned_data_x.shape)"
   ]
  }
 ],
 "metadata": {
  "kernelspec": {
   "display_name": "Python 3",
   "language": "python",
   "name": "python3"
  },
  "language_info": {
   "codemirror_mode": {
    "name": "ipython",
    "version": 3
   },
   "file_extension": ".py",
   "mimetype": "text/x-python",
   "name": "python",
   "nbconvert_exporter": "python",
   "pygments_lexer": "ipython3",
   "version": "3.10.12"
  }
 },
 "nbformat": 4,
 "nbformat_minor": 2
}
