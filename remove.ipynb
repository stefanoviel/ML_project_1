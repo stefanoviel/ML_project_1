{
 "cells": [
  {
   "cell_type": "code",
   "execution_count": 12,
   "metadata": {},
   "outputs": [],
   "source": [
    "import numpy as np \n",
    "from helpers import * \n",
    "from implementations import *\n",
    "from utilities import *\n",
    "\n",
    "import matplotlib.pyplot as plt"
   ]
  },
  {
   "cell_type": "code",
   "execution_count": 2,
   "metadata": {},
   "outputs": [],
   "source": [
    "MAX_ROWS = 5000\n",
    "\n",
    "x_data = np.genfromtxt('data/dataset/x_train.csv', delimiter=\",\", skip_header=1,  max_rows=MAX_ROWS)\n",
    "y_data = np.genfromtxt('data/dataset/y_train.csv', delimiter=\",\", skip_header=1,  max_rows=MAX_ROWS)\n",
    "\n",
    "x_data = reduced_data(x_data, t= 0.8)\n",
    "\n",
    "y_data = clean_Y(y_data)\n",
    "x_data = clean_X_0(x_data)\n",
    "\n",
    "x_train, x_test, y_train, y_test = split_data(x_data, y_data, 0.8)"
   ]
  },
  {
   "cell_type": "code",
   "execution_count": 11,
   "metadata": {},
   "outputs": [],
   "source": [
    "def dimensionality_reduction(x_train, number_of_features):\n",
    "    normalized_x = normalize(x_train)\n",
    "    cov_matrix = np.cov(normalized_x, rowvar=False)\n",
    "    eigenvalues, eigenvectors = np.linalg.eig(cov_matrix)\n",
    "    eigenvalue_indices = np.argsort(eigenvalues)[::-1]\n",
    "    k = number_of_features  # Replace with the desired number of components\n",
    "    top_eigenvalue_indices = eigenvalue_indices[:k]\n",
    "    top_eigenvectors = eigenvectors[:, top_eigenvalue_indices]\n",
    "    reduced_data = np.dot(normalized_x, top_eigenvectors)\n",
    "    return reduced_data"
   ]
  },
  {
   "cell_type": "code",
   "execution_count": 12,
   "metadata": {},
   "outputs": [
    {
     "name": "stderr",
     "output_type": "stream",
     "text": [
      "/home/stefano/Documents/EPFL/ML_course_projects/ML_project_1/implementations.py:136: RuntimeWarning: divide by zero encountered in log\n",
      "  loss = -np.mean(y * np.log(sigmoids) + (1 - y) * np.log(1 - sigmoids))\n",
      "/home/stefano/Documents/EPFL/ML_course_projects/ML_project_1/implementations.py:136: RuntimeWarning: invalid value encountered in multiply\n",
      "  loss = -np.mean(y * np.log(sigmoids) + (1 - y) * np.log(1 - sigmoids))\n"
     ]
    },
    {
     "name": "stdout",
     "output_type": "stream",
     "text": [
      " lambda= 0 gamma= 0.01 , CV accuracy = 0.7622, f1_score = 0.7984\n",
      " lambda= 0.0001 gamma= 0.01 , CV accuracy = 0.7610, f1_score = 0.7981\n",
      " lambda= 1e-05 gamma= 0.01 , CV accuracy = 0.7670, f1_score = 0.8024\n",
      " lambda= 0 gamma= 0.1 , CV accuracy = 0.7704, f1_score = 0.8043\n",
      " lambda= 0.0001 gamma= 0.1 , CV accuracy = 0.7688, f1_score = 0.8035\n",
      " lambda= 1e-05 gamma= 0.1 , CV accuracy = 0.7694, f1_score = 0.8033\n",
      " lambda= 0 gamma= 0.2 , CV accuracy = 0.7748, f1_score = 0.8067\n",
      " lambda= 0.0001 gamma= 0.2 , CV accuracy = 0.7704, f1_score = 0.8043\n",
      " lambda= 1e-05 gamma= 0.2 , CV accuracy = 0.7734, f1_score = 0.8055\n"
     ]
    },
    {
     "data": {
      "text/plain": [
       "(0, 0.2)"
      ]
     },
     "execution_count": 12,
     "metadata": {},
     "output_type": "execute_result"
    }
   ],
   "source": [
    "# hyperparamter tuning\n",
    "x_data = dimensionality_reduction(x_data, 150)\n",
    "x_balanced, y_balanced = balance_dataset(x_data, y_data)\n",
    "\n",
    "N, D = x_balanced.shape\n",
    "initial_w = np.random.rand(D)\n",
    "\n",
    "hyperparameter_tuning(x_balanced, y_balanced, reg_logistic_regression,lambdas= [0, 0.0001, 0.00001] , gammas=[0.01, 0.1, 0.2], model_params={'initial_w': initial_w ,'max_iters': 10000})\n",
    "\n",
    "# see what is better with valerios cleaning"
   ]
  },
  {
   "cell_type": "code",
   "execution_count": 4,
   "metadata": {},
   "outputs": [
    {
     "name": "stderr",
     "output_type": "stream",
     "text": [
      "/home/stefano/Documents/EPFL/ML_course_projects/ML_project_1/implementations.py:136: RuntimeWarning: divide by zero encountered in log\n",
      "  loss = -np.mean(y * np.log(sigmoids) + (1 - y) * np.log(1 - sigmoids))\n",
      "/home/stefano/Documents/EPFL/ML_course_projects/ML_project_1/implementations.py:136: RuntimeWarning: invalid value encountered in multiply\n",
      "  loss = -np.mean(y * np.log(sigmoids) + (1 - y) * np.log(1 - sigmoids))\n"
     ]
    }
   ],
   "source": [
    "N, D = x_train.shape\n",
    "initial_w = np.random.rand(D)\n",
    "\n",
    "w, loss = reg_logistic_regression(y_train.reshape(-1, 1), x_train, 1e-5, initial_w.reshape(-1, 1), 10000, 0.1)"
   ]
  },
  {
   "cell_type": "code",
   "execution_count": 31,
   "metadata": {},
   "outputs": [
    {
     "name": "stdout",
     "output_type": "stream",
     "text": [
      "[[0.2        0.37948718]\n",
      " [0.21       0.39361702]\n",
      " [0.22       0.39130435]\n",
      " [0.23       0.36464088]\n",
      " [0.24       0.3699422 ]\n",
      " [0.25       0.36686391]\n",
      " [0.26       0.36585366]\n",
      " [0.27       0.35802469]\n",
      " [0.28       0.35      ]\n",
      " [0.29       0.35443038]\n",
      " [0.3        0.3566879 ]\n",
      " [0.31       0.35897436]\n",
      " [0.32       0.35761589]\n",
      " [0.33       0.36734694]\n",
      " [0.34       0.37762238]\n",
      " [0.35       0.37956204]\n",
      " [0.36       0.38235294]\n",
      " [0.37       0.36090226]\n",
      " [0.38       0.36641221]\n",
      " [0.39       0.359375  ]\n",
      " [0.4        0.368     ]\n",
      " [0.41       0.34146341]\n",
      " [0.42       0.32786885]\n",
      " [0.43       0.31404959]\n",
      " [0.44       0.30508475]\n",
      " [0.45       0.29824561]\n",
      " [0.46       0.29824561]\n",
      " [0.47       0.28318584]\n",
      " [0.48       0.25688073]\n",
      " [0.49       0.24299065]\n",
      " [0.5        0.24299065]\n",
      " [0.51       0.24528302]\n",
      " [0.52       0.25242718]\n",
      " [0.53       0.24      ]\n",
      " [0.54       0.24489796]\n",
      " [0.55       0.24489796]\n",
      " [0.56       0.22916667]\n",
      " [0.57       0.21052632]\n",
      " [0.58       0.21052632]\n",
      " [0.59       0.21276596]]\n"
     ]
    },
    {
     "data": {
      "text/plain": [
       "[<matplotlib.lines.Line2D at 0x7fbac73eb940>]"
      ]
     },
     "execution_count": 31,
     "metadata": {},
     "output_type": "execute_result"
    },
    {
     "data": {
      "image/png": "[encoded data removed]",
      "text/plain": [
       "<Figure size 432x288 with 1 Axes>"
      ]
     },
     "metadata": {
      "needs_background": "light"
     },
     "output_type": "display_data"
    }
   ],
   "source": [
    "f1_scores = []\n",
    "for threshold in np.arange(0.1, 0.6, 0.01).tolist(): \n",
    "    y_pred = (sigmoid(x_test @ w) >= threshold).flatten() \n",
    "    f1_scores.append([threshold, compute_f1(y_test, y_pred)])\n",
    "\n",
    "f1_scores = np.array(f1_scores)\n",
    "print(f1_scores[10:])\n",
    "plt.plot(f1_scores[:, 0], f1_scores[:, 1])\n"
   ]
  },
  {
   "cell_type": "code",
   "execution_count": 32,
   "metadata": {},
   "outputs": [],
   "source": [
    "def dimensionality_reduction(x_train, number_of_features):\n",
    "    normalized_x = normalize(x_train)\n",
    "    cov_matrix = np.cov(normalized_x, rowvar=False)\n",
    "    eigenvalues, eigenvectors = np.linalg.eig(cov_matrix)\n",
    "    eigenvalue_indices = np.argsort(eigenvalues)[::-1]\n",
    "    k = number_of_features  # Replace with the desired number of components\n",
    "    top_eigenvalue_indices = eigenvalue_indices[:k]\n",
    "    top_eigenvectors = eigenvectors[:, top_eigenvalue_indices]\n",
    "    reduced_data = np.dot(normalized_x, top_eigenvectors)\n",
    "    return reduced_data"
   ]
  },
  {
   "cell_type": "code",
   "execution_count": 33,
   "metadata": {},
   "outputs": [
    {
     "ename": "KeyboardInterrupt",
     "evalue": "",
     "output_type": "error",
     "traceback": [
      "\u001b[0;31m---------------------------------------------------------------------------\u001b[0m",
      "\u001b[0;31mKeyboardInterrupt\u001b[0m                         Traceback (most recent call last)",
      "\u001b[0;32m/tmp/ipykernel_16744/3144593380.py\u001b[0m in \u001b[0;36m<module>\u001b[0;34m\u001b[0m\n\u001b[0;32m----> 1\u001b[0;31m \u001b[0mx_test\u001b[0m \u001b[0;34m=\u001b[0m \u001b[0mnp\u001b[0m\u001b[0;34m.\u001b[0m\u001b[0mgenfromtxt\u001b[0m\u001b[0;34m(\u001b[0m\u001b[0;34m'data/dataset/x_test.csv'\u001b[0m\u001b[0;34m,\u001b[0m \u001b[0mdelimiter\u001b[0m\u001b[0;34m=\u001b[0m\u001b[0;34m\",\"\u001b[0m\u001b[0;34m,\u001b[0m \u001b[0mskip_header\u001b[0m\u001b[0;34m=\u001b[0m\u001b[0;36m1\u001b[0m\u001b[0;34m)\u001b[0m\u001b[0;34m\u001b[0m\u001b[0;34m\u001b[0m\u001b[0m\n\u001b[0m\u001b[1;32m      2\u001b[0m \u001b[0mx_data\u001b[0m \u001b[0;34m=\u001b[0m \u001b[0mnp\u001b[0m\u001b[0;34m.\u001b[0m\u001b[0mgenfromtxt\u001b[0m\u001b[0;34m(\u001b[0m\u001b[0;34m'data/dataset/x_train.csv'\u001b[0m\u001b[0;34m,\u001b[0m \u001b[0mdelimiter\u001b[0m\u001b[0;34m=\u001b[0m\u001b[0;34m\",\"\u001b[0m\u001b[0;34m,\u001b[0m \u001b[0mskip_header\u001b[0m\u001b[0;34m=\u001b[0m\u001b[0;36m1\u001b[0m\u001b[0;34m)\u001b[0m\u001b[0;34m\u001b[0m\u001b[0;34m\u001b[0m\u001b[0m\n\u001b[1;32m      3\u001b[0m \u001b[0my_data\u001b[0m \u001b[0;34m=\u001b[0m \u001b[0mnp\u001b[0m\u001b[0;34m.\u001b[0m\u001b[0mgenfromtxt\u001b[0m\u001b[0;34m(\u001b[0m\u001b[0;34m'data/dataset/y_train.csv'\u001b[0m\u001b[0;34m,\u001b[0m \u001b[0mdelimiter\u001b[0m\u001b[0;34m=\u001b[0m\u001b[0;34m\",\"\u001b[0m\u001b[0;34m,\u001b[0m \u001b[0mskip_header\u001b[0m\u001b[0;34m=\u001b[0m\u001b[0;36m1\u001b[0m\u001b[0;34m)\u001b[0m\u001b[0;34m\u001b[0m\u001b[0;34m\u001b[0m\u001b[0m\n\u001b[1;32m      4\u001b[0m \u001b[0mprint\u001b[0m\u001b[0;34m(\u001b[0m\u001b[0;34m'data loaded'\u001b[0m\u001b[0;34m)\u001b[0m\u001b[0;34m\u001b[0m\u001b[0;34m\u001b[0m\u001b[0m\n\u001b[1;32m      5\u001b[0m \u001b[0;34m\u001b[0m\u001b[0m\n",
      "\u001b[0;32m/usr/lib/python3/dist-packages/numpy/lib/npyio.py\u001b[0m in \u001b[0;36mgenfromtxt\u001b[0;34m(fname, dtype, comments, delimiter, skip_header, skip_footer, converters, missing_values, filling_values, usecols, names, excludelist, deletechars, replace_space, autostrip, case_sensitive, defaultfmt, unpack, usemask, loose, invalid_raise, max_rows, encoding, like)\u001b[0m\n\u001b[1;32m   2137\u001b[0m     \u001b[0;32mif\u001b[0m \u001b[0mloose\u001b[0m\u001b[0;34m:\u001b[0m\u001b[0;34m\u001b[0m\u001b[0;34m\u001b[0m\u001b[0m\n\u001b[1;32m   2138\u001b[0m         rows = list(\n\u001b[0;32m-> 2139\u001b[0;31m             zip(*[[conv._loose_call(_r) for _r in map(itemgetter(i), rows)]\n\u001b[0m\u001b[1;32m   2140\u001b[0m                   for (i, conv) in enumerate(converters)]))\n\u001b[1;32m   2141\u001b[0m     \u001b[0;32melse\u001b[0m\u001b[0;34m:\u001b[0m\u001b[0;34m\u001b[0m\u001b[0;34m\u001b[0m\u001b[0m\n",
      "\u001b[0;32m/usr/lib/python3/dist-packages/numpy/lib/npyio.py\u001b[0m in \u001b[0;36m<listcomp>\u001b[0;34m(.0)\u001b[0m\n\u001b[1;32m   2137\u001b[0m     \u001b[0;32mif\u001b[0m \u001b[0mloose\u001b[0m\u001b[0;34m:\u001b[0m\u001b[0;34m\u001b[0m\u001b[0;34m\u001b[0m\u001b[0m\n\u001b[1;32m   2138\u001b[0m         rows = list(\n\u001b[0;32m-> 2139\u001b[0;31m             zip(*[[conv._loose_call(_r) for _r in map(itemgetter(i), rows)]\n\u001b[0m\u001b[1;32m   2140\u001b[0m                   for (i, conv) in enumerate(converters)]))\n\u001b[1;32m   2141\u001b[0m     \u001b[0;32melse\u001b[0m\u001b[0;34m:\u001b[0m\u001b[0;34m\u001b[0m\u001b[0;34m\u001b[0m\u001b[0m\n",
      "\u001b[0;32m/usr/lib/python3/dist-packages/numpy/lib/npyio.py\u001b[0m in \u001b[0;36m<listcomp>\u001b[0;34m(.0)\u001b[0m\n\u001b[1;32m   2137\u001b[0m     \u001b[0;32mif\u001b[0m \u001b[0mloose\u001b[0m\u001b[0;34m:\u001b[0m\u001b[0;34m\u001b[0m\u001b[0;34m\u001b[0m\u001b[0m\n\u001b[1;32m   2138\u001b[0m         rows = list(\n\u001b[0;32m-> 2139\u001b[0;31m             zip(*[[conv._loose_call(_r) for _r in map(itemgetter(i), rows)]\n\u001b[0m\u001b[1;32m   2140\u001b[0m                   for (i, conv) in enumerate(converters)]))\n\u001b[1;32m   2141\u001b[0m     \u001b[0;32melse\u001b[0m\u001b[0;34m:\u001b[0m\u001b[0;34m\u001b[0m\u001b[0;34m\u001b[0m\u001b[0m\n",
      "\u001b[0;32m/usr/lib/python3/dist-packages/numpy/lib/_iotools.py\u001b[0m in \u001b[0;36m_loose_call\u001b[0;34m(self, value)\u001b[0m\n\u001b[1;32m    671\u001b[0m     \u001b[0;32mdef\u001b[0m \u001b[0m_loose_call\u001b[0m\u001b[0;34m(\u001b[0m\u001b[0mself\u001b[0m\u001b[0;34m,\u001b[0m \u001b[0mvalue\u001b[0m\u001b[0;34m)\u001b[0m\u001b[0;34m:\u001b[0m\u001b[0;34m\u001b[0m\u001b[0;34m\u001b[0m\u001b[0m\n\u001b[1;32m    672\u001b[0m         \u001b[0;32mtry\u001b[0m\u001b[0;34m:\u001b[0m\u001b[0;34m\u001b[0m\u001b[0;34m\u001b[0m\u001b[0m\n\u001b[0;32m--> 673\u001b[0;31m             \u001b[0;32mreturn\u001b[0m \u001b[0mself\u001b[0m\u001b[0;34m.\u001b[0m\u001b[0mfunc\u001b[0m\u001b[0;34m(\u001b[0m\u001b[0mvalue\u001b[0m\u001b[0;34m)\u001b[0m\u001b[0;34m\u001b[0m\u001b[0;34m\u001b[0m\u001b[0m\n\u001b[0m\u001b[1;32m    674\u001b[0m         \u001b[0;32mexcept\u001b[0m \u001b[0mValueError\u001b[0m\u001b[0;34m:\u001b[0m\u001b[0;34m\u001b[0m\u001b[0;34m\u001b[0m\u001b[0m\n\u001b[1;32m    675\u001b[0m             \u001b[0;32mreturn\u001b[0m \u001b[0mself\u001b[0m\u001b[0;34m.\u001b[0m\u001b[0mdefault\u001b[0m\u001b[0;34m\u001b[0m\u001b[0;34m\u001b[0m\u001b[0m\n",
      "\u001b[0;31mKeyboardInterrupt\u001b[0m: "
     ]
    }
   ],
   "source": [
    "x_test = np.genfromtxt('data/dataset/x_test.csv', delimiter=\",\", skip_header=1)\n",
    "x_data = np.genfromtxt('data/dataset/x_train.csv', delimiter=\",\", skip_header=1)\n",
    "y_data = np.genfromtxt('data/dataset/y_train.csv', delimiter=\",\", skip_header=1)\n",
    "print('data loaded')\n",
    "\n",
    "y_data = clean_Y(y_data)\n",
    "x_data = clean_X_0(x_data)\n",
    "x_test = clean_X_0(x_test)\n",
    "print('data cleaned')\n",
    "\n",
    "x_train_balanced, y_train_balanced = (x_data, y_data)\n",
    "x_train_balanced = dimensionality_reduction(x_train_balanced, 150)\n",
    "print('not balanced')\n",
    "\n",
    "N, D = x_train_balanced.shape\n",
    "initial_w = np.random.rand(D)\n",
    "\n",
    "w, loss = reg_logistic_regression(y_train_balanced.reshape(-1, 1), x_train_balanced, 1e-5, initial_w.reshape(-1, 1), 10000, 0.1)\n",
    "print('trained')\n",
    "\n",
    "pred = predict_logistic(x_test, w)\n",
    "pred = np.where(pred, 1, -1)\n"
   ]
  }
 ],
 "metadata": {
  "kernelspec": {
   "display_name": "Python 3",
   "language": "python",
   "name": "python3"
  },
  "language_info": {
   "codemirror_mode": {
    "name": "ipython",
    "version": 3
   },
   "file_extension": ".py",
   "mimetype": "text/x-python",
   "name": "python",
   "nbconvert_exporter": "python",
   "pygments_lexer": "ipython3",
   "version": "3.10.12"
  }
 },
 "nbformat": 4,
 "nbformat_minor": 2
}
