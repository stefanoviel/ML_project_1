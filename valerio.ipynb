{
 "cells": [
  {
   "cell_type": "code",
   "execution_count": 2,
   "metadata": {},
   "outputs": [],
   "source": [
    "import numpy as np \n",
    "from helpers import * \n",
    "from implementations import *\n",
    "from other_functions import *"
   ]
  },
  {
   "cell_type": "code",
   "execution_count": 4,
   "metadata": {},
   "outputs": [],
   "source": [
    "MAX_ROWS = 10000\n",
    "\n",
    "x_data = np.genfromtxt('data/dataset/x_train.csv', delimiter=\",\", skip_header=1,  max_rows=MAX_ROWS)\n",
    "y_data = np.genfromtxt('data/dataset/y_train.csv', delimiter=\",\", skip_header=1,  max_rows=MAX_ROWS)\n",
    "\n",
    "\n",
    "y_data = y_data[:, 1]  # remove ids\n",
    "y_data[y_data == -1] = 0  # set -1 to 0 \n",
    "x_data = x_data[:, 1:]  # remove ids\n",
    "\n",
    "#x_data[np.isnan(x_data)] = 0\n",
    "#x_data = normalize(x_data)"
   ]
  },
  {
   "cell_type": "code",
   "execution_count": 7,
   "metadata": {},
   "outputs": [
    {
     "data": {
      "text/plain": [
       "0.4479517133956386"
      ]
     },
     "execution_count": 7,
     "metadata": {},
     "output_type": "execute_result"
    }
   ],
   "source": [
    "np.sum(np.isnan(x_data)) / (np.multiply(x_data.shape[0],x_data.shape[1]))"
   ]
  },
  {
   "cell_type": "code",
   "execution_count": 6,
   "metadata": {},
   "outputs": [
    {
     "data": {
      "text/plain": [
       "6"
      ]
     },
     "execution_count": 6,
     "metadata": {},
     "output_type": "execute_result"
    }
   ],
   "source": [
    "np.multiply(2,3)"
   ]
  },
  {
   "cell_type": "code",
   "execution_count": 3,
   "metadata": {},
   "outputs": [],
   "source": [
    "# STEP 1\n",
    "# Drop sparse features\n",
    "def columns_to_remove(x_data,t):\n",
    "    remove = np.array([])\n",
    "\n",
    "    for j in range(x_data.shape[1]):   \n",
    "        # focus: columns with too many nan values\n",
    "        num_nan = np.sum(np.isnan(x_data[:,j]))\n",
    "        per_nan = num_nan / x_data.shape[0]\n",
    "        \n",
    "        # focus: columns with too many 77/99 values\n",
    "        num_2729 = np.sum(x_data[:,j] == 77) + np.sum(x_data[:,j] == 99)\n",
    "        per_2729 = num_2729 / x_data.shape[0]\n",
    "        \n",
    "        # focus: columns with too many 77/99 values\n",
    "        num_3739 = np.sum(x_data[:,j] == 777) + np.sum(x_data[:,j] == 999)\n",
    "        per_3739 = num_3739 / x_data.shape[0]\n",
    "\n",
    "        # focus: columns with too many 7777/9999 values\n",
    "        num_4749 = np.sum(x_data[:,j] == 7777) + np.sum(x_data[:,j] == 9999)\n",
    "        per_4749 = num_4749 / x_data.shape[0]\n",
    "\n",
    "        # focus: columns with too many 777777/999999 values\n",
    "        num_6769 = np.sum(x_data[:,j] == 777777) + np.sum(x_data[:,j] == 999999)\n",
    "        per_6769 = num_6769 / x_data.shape[0]\n",
    "\n",
    "        # find out which features to remove\n",
    "        num_remove = num_nan + num_2729 + num_3739 + num_4749 + num_6769\n",
    "        per_remove = num_remove / x_data.shape[0]\n",
    "        if ( per_remove >= t ):\n",
    "            remove = np.append(remove,j)\n",
    "            \n",
    "    return remove.astype(int)\n",
    "\n",
    "def reduced_data(x_data):   # ex filtered_data\n",
    "    t = 0.6     # threshold\n",
    "    reduced_data = np.delete(x_data, columns_to_remove(x_data, t), 1)\n",
    "    return reduced_data\n",
    "\n",
    "# STEP 2\n",
    "# Fix the misleading data\n",
    "def find_index(str):\n",
    "    with open('data/dataset/x_train.csv', newline='') as f:\n",
    "        reader = csv.reader(f)\n",
    "        row1 = next(reader)\n",
    "    return row1.index(str)\n",
    "\n",
    "def find_var(i):\n",
    "    with open('data/dataset/x_train.csv', newline='') as f:\n",
    "        reader = csv.reader(f)\n",
    "        row1 = next(reader)\n",
    "    return row1[i]\n",
    "\n",
    "def fixed_data(x_data):\n",
    "    for j in range(x_data.shape[1]):\n",
    "        if (find_var(j) == 'PHYSHLTH') or (find_var(j) == 'MENTHLTH') or (find_var(j) == 'POORHLTH'):\n",
    "            for i in range(x_data.shape[0]):\n",
    "                if x_data[i][j] == 88:\n",
    "                    x_data[i][j] = 0\n",
    "        # TO DO \n",
    "        # other data\n",
    "    return x_data"
   ]
  },
  {
   "cell_type": "code",
   "execution_count": 4,
   "metadata": {},
   "outputs": [
    {
     "name": "stdout",
     "output_type": "stream",
     "text": [
      "[ 5. 88. 77. ... 88.  5.  5.]\n",
      "28\n",
      "[1. 1. 1. ... 1. 1. 1.]\n"
     ]
    }
   ],
   "source": [
    "#print(reduced_data(x_data))\n",
    "reduced_data = reduced_data(x_data)\n",
    "#print(x_data[:,find_index('PHYSHLTH')])\n",
    "print(find_index('PHYSHLTH'))\n",
    "\n",
    "print(fixed_data(reduced_data(x_data))[:,find_index('PHYSHLTH')])"
   ]
  },
  {
   "cell_type": "code",
   "execution_count": 21,
   "metadata": {},
   "outputs": [
    {
     "name": "stdout",
     "output_type": "stream",
     "text": [
      "Original Data:\n",
      "[[  1   1   1]\n",
      " [  4   5   6]\n",
      " [  7   8   9]\n",
      " [100 200 300]\n",
      " [ 10  11  12]]\n",
      "\n",
      "Cleaned Data:\n",
      "[[  1   1   1]\n",
      " [  4   5   6]\n",
      " [  7   8   9]\n",
      " [100 200 300]\n",
      " [ 10  11  12]]\n"
     ]
    }
   ],
   "source": [
    "import numpy as np\n",
    "\n",
    "def remove_outliers_from_matrix(x_data, max_deviations=2):\n",
    "    # Calculate the mean for each column (axis=0)\n",
    "    mean = np.mean(x_data, axis=0)\n",
    "    \n",
    "    # Calculate the standard deviation for each column\n",
    "    std = np.std(x_data, axis=0)\n",
    "    \n",
    "    # Calculate the absolute deviation from the mean for each column\n",
    "    distance_from_mean = np.abs(x_data - mean)\n",
    "    \n",
    "    # Create a mask for outliers for each column\n",
    "    outlier_mask = distance_from_mean < max_deviations * std\n",
    "    \n",
    "    # Apply the mask to the original matrix to remove outliers\n",
    "    x_data_cleaned = x_data[outlier_mask.all(axis=1)]\n",
    "    \n",
    "    return x_data_cleaned\n",
    "\n",
    "# Example usage:\n",
    "# Create a sample data matrix with outliers\n",
    "data_matrix = np.array([[1, 1, 1],\n",
    "                        [4, 5, 6],\n",
    "                        [7, 8, 9],\n",
    "                        [100, 200, 300],  # Outlier in each column\n",
    "                        [10, 11, 12]])\n",
    "\n",
    "# Remove outliers from the matrix using the function\n",
    "cleaned_data = remove_outliers_from_matrix(data_matrix)\n",
    "\n",
    "print(\"Original Data:\")\n",
    "print(data_matrix)\n",
    "print(\"\\nCleaned Data:\")\n",
    "print(cleaned_data)\n"
   ]
  },
  {
   "cell_type": "code",
   "execution_count": 106,
   "metadata": {},
   "outputs": [
    {
     "name": "stdout",
     "output_type": "stream",
     "text": [
      "Original Data:\n",
      "[[        1         1         1]\n",
      " [        4         5         6]\n",
      " [        7     80000    900000]\n",
      " [    20000     10000  10000000]\n",
      " [   -20000    -10000 -10000000]]\n",
      "\n",
      "Cleaned Data:\n",
      "[[     1      1      1]\n",
      " [     4      5      6]\n",
      " [     7  80000 900000]]\n"
     ]
    }
   ],
   "source": [
    "# Function\n",
    "import numpy as np\n",
    "\n",
    "def remove_rows_by_indices(matrix, indices_to_remove):\n",
    "    # Create a mask to select rows that are not in the list of indices to remove\n",
    "    mask = np.ones(matrix.shape[0], dtype=bool)\n",
    "    mask[indices_to_remove] = False\n",
    "\n",
    "    # Apply the mask to the matrix to remove specified rows\n",
    "    cleaned_matrix = matrix[mask]\n",
    "\n",
    "    return cleaned_matrix\n",
    "\n",
    "def remove_outliers_from_matrix(x_data, max_deviations):\n",
    "    # Calculate the mean and standard deviation for the entire matrix\n",
    "    mean = np.mean(x_data, axis=0)\n",
    "    #print(\"mean = \", mean)\n",
    "    std = np.std(x_data, axis=0)\n",
    "    #print(\"std = \",std)\n",
    "    \n",
    "    # Calculate the absolute deviation from the mean for the entire matrix\n",
    "    distance_from_mean = []\n",
    "    for i in range(x_data.shape[0]):\n",
    "        distance_from_mean.append( np.abs(x_data[i] - mean))\n",
    "    #print(\"distance = \", distance_from_mean)\n",
    "\n",
    "    distance_from_mean = np.array(distance_from_mean)\n",
    "\n",
    "    #print(\"max_deviations * std = \", max_deviations * std)\n",
    "\n",
    "\n",
    "    # Create a mask to identify outliers based on the absolute deviation\n",
    "    outlier_sample = distance_from_mean > max_deviations * std\n",
    "\n",
    "    #print(\"outlier samples = \\n\", outlier_sample)\n",
    "    count = np.zeros(x_data.shape[0])\n",
    "    samples_to_drop = []\n",
    "    for i in range(x_data.shape[0]):\n",
    "        count[i] = np.count_nonzero(outlier_sample[i])\n",
    "        if count[i] > 0.6 * x_data.shape[1]:\n",
    "            samples_to_drop.append(i)\n",
    "    #print(\"count = \", count)\n",
    "    #print(\"to drop = \", samples_to_drop)\n",
    "\n",
    "    x_data_cleaned = remove_rows_by_indices(x_data, samples_to_drop)\n",
    "    \n",
    "    return x_data_cleaned\n",
    "\n",
    "\n",
    "# Example usage:\n",
    "# Create a sample data matrix with outliers\n",
    "data_matrix = np.array([[1, 1, 1],\n",
    "                        [4, 5, 6],\n",
    "                        [7, 80000, 900000],\n",
    "                        [20000, 10000, 10000000],\n",
    "                        [-20000, -10000, -10000000]])  # Outlier in each column \n",
    "\n",
    "# Remove outliers from the matrix using the function\n",
    "cleaned_data = remove_outliers_from_matrix(data_matrix,0.8)\n",
    "\n",
    "print(\"Original Data:\")\n",
    "print(data_matrix)\n",
    "print(\"\\nCleaned Data:\")\n",
    "print(cleaned_data)\n"
   ]
  },
  {
   "cell_type": "code",
   "execution_count": null,
   "metadata": {},
   "outputs": [],
   "source": []
  }
 ],
 "metadata": {
  "kernelspec": {
   "display_name": "Python 3.11.2 64-bit",
   "language": "python",
   "name": "python3"
  },
  "language_info": {
   "codemirror_mode": {
    "name": "ipython",
    "version": 3
   },
   "file_extension": ".py",
   "mimetype": "text/x-python",
   "name": "python",
   "nbconvert_exporter": "python",
   "pygments_lexer": "ipython3",
   "version": "3.11.2"
  },
  "orig_nbformat": 4,
  "vscode": {
   "interpreter": {
    "hash": "aee8b7b246df8f9039afb4144a1f6fd8d2ca17a180786b69acc140d282b71a49"
   }
  }
 },
 "nbformat": 4,
 "nbformat_minor": 2
}
