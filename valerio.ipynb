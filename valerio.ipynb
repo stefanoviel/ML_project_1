{
 "cells": [
  {
   "cell_type": "code",
   "execution_count": 1,
   "metadata": {},
   "outputs": [],
   "source": [
    "import numpy as np \n",
    "from helpers import * \n",
    "from implementations import *\n",
    "from other_functions import *"
   ]
  },
  {
   "cell_type": "code",
   "execution_count": 2,
   "metadata": {},
   "outputs": [],
   "source": [
    "MAX_ROWS = 10000\n",
    "\n",
    "x_data = np.genfromtxt('data/dataset/x_train.csv', delimiter=\",\", skip_header=1,  max_rows=MAX_ROWS)\n",
    "y_data = np.genfromtxt('data/dataset/y_train.csv', delimiter=\",\", skip_header=1,  max_rows=MAX_ROWS)\n",
    "\n",
    "\n",
    "y_data = y_data[:, 1]  # remove ids\n",
    "y_data[y_data == -1] = 0  # set -1 to 0 \n",
    "x_data = x_data[:, 1:]  # remove ids\n",
    "\n",
    "#x_data[np.isnan(x_data)] = 0\n",
    "#x_data = normalize(x_data)"
   ]
  },
  {
   "cell_type": "code",
   "execution_count": 3,
   "metadata": {},
   "outputs": [],
   "source": [
    "# STEP 1\n",
    "# Drop sparse features\n",
    "def columns_to_remove(x_data,t):\n",
    "    remove = np.array([])\n",
    "\n",
    "    for j in range(x_data.shape[1]):   \n",
    "        # focus: columns with too many nan values\n",
    "        num_nan = np.sum(np.isnan(x_data[:,j]))\n",
    "        per_nan = num_nan / x_data.shape[0]\n",
    "        \n",
    "        # focus: columns with too many 77/99 values\n",
    "        num_2729 = np.sum(x_data[:,j] == 77) + np.sum(x_data[:,j] == 99)\n",
    "        per_2729 = num_2729 / x_data.shape[0]\n",
    "        \n",
    "        # focus: columns with too many 77/99 values\n",
    "        num_3739 = np.sum(x_data[:,j] == 777) + np.sum(x_data[:,j] == 999)\n",
    "        per_3739 = num_3739 / x_data.shape[0]\n",
    "\n",
    "        # focus: columns with too many 7777/9999 values\n",
    "        num_4749 = np.sum(x_data[:,j] == 7777) + np.sum(x_data[:,j] == 9999)\n",
    "        per_4749 = num_4749 / x_data.shape[0]\n",
    "\n",
    "        # focus: columns with too many 777777/999999 values\n",
    "        num_6769 = np.sum(x_data[:,j] == 777777) + np.sum(x_data[:,j] == 999999)\n",
    "        per_6769 = num_6769 / x_data.shape[0]\n",
    "\n",
    "        # find out which features to remove\n",
    "        num_remove = num_nan + num_2729 + num_3739 + num_4749 + num_6769\n",
    "        per_remove = num_remove / x_data.shape[0]\n",
    "        if ( per_remove >= t ):\n",
    "            remove = np.append(remove,j)\n",
    "            \n",
    "    return remove.astype(int)\n",
    "\n",
    "def reduced_data(x_data):   # ex filtered_data\n",
    "    t = 0.6     # threshold\n",
    "    reduced_data = np.delete(x_data, columns_to_remove(x_data, t), 1)\n",
    "    return reduced_data\n",
    "\n",
    "# STEP 2\n",
    "# Fix the misleading data\n",
    "def find_index(str):\n",
    "    with open('data/dataset/x_train.csv', newline='') as f:\n",
    "        reader = csv.reader(f)\n",
    "        row1 = next(reader)\n",
    "    return row1.index(str)\n",
    "\n",
    "def find_var(i):\n",
    "    with open('data/dataset/x_train.csv', newline='') as f:\n",
    "        reader = csv.reader(f)\n",
    "        row1 = next(reader)\n",
    "    return row1[i]\n",
    "\n",
    "def fixed_data(x_data):\n",
    "    for j in range(x_data.shape[1]):\n",
    "        if (find_var(j) == 'PHYSHLTH') or (find_var(j) == 'MENTHLTH') or (find_var(j) == 'POORHLTH'):\n",
    "            for i in range(x_data.shape[0]):\n",
    "                if x_data[i][j] == 88:\n",
    "                    x_data[i][j] = 0\n",
    "        # TO DO \n",
    "        # other data\n",
    "    return x_data"
   ]
  },
  {
   "cell_type": "code",
   "execution_count": 4,
   "metadata": {},
   "outputs": [
    {
     "name": "stdout",
     "output_type": "stream",
     "text": [
      "[ 5. 88. 77. ... 88.  5.  5.]\n",
      "28\n",
      "[1. 1. 1. ... 1. 1. 1.]\n"
     ]
    }
   ],
   "source": [
    "#print(reduced_data(x_data))\n",
    "reduced_data = reduced_data(x_data)\n",
    "#print(x_data[:,find_index('PHYSHLTH')])\n",
    "print(find_index('PHYSHLTH'))\n",
    "\n",
    "print(fixed_data(reduced_data(x_data))[:,find_index('PHYSHLTH')])"
   ]
  },
  {
   "cell_type": "code",
   "execution_count": null,
   "metadata": {},
   "outputs": [],
   "source": []
  }
 ],
 "metadata": {
  "kernelspec": {
   "display_name": "Python 3.11.2 64-bit",
   "language": "python",
   "name": "python3"
  },
  "language_info": {
   "codemirror_mode": {
    "name": "ipython",
    "version": 3
   },
   "file_extension": ".py",
   "mimetype": "text/x-python",
   "name": "python",
   "nbconvert_exporter": "python",
   "pygments_lexer": "ipython3",
   "version": "3.11.2"
  },
  "orig_nbformat": 4,
  "vscode": {
   "interpreter": {
    "hash": "aee8b7b246df8f9039afb4144a1f6fd8d2ca17a180786b69acc140d282b71a49"
   }
  }
 },
 "nbformat": 4,
 "nbformat_minor": 2
}
